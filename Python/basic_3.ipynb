{
 "cells": [
  {
   "attachments": {},
   "cell_type": "markdown",
   "metadata": {},
   "source": [
    "# PYTHON GUIDE - BASICS 3"
   ]
  },
  {
   "attachments": {},
   "cell_type": "markdown",
   "metadata": {},
   "source": [
    "# Iterators\n",
    "\n",
    "Python iterators are objects that can be iterated (looped) upon. They work by implementing the iterator protocol, which requires a __iter__() method that returns the iterator object itself and a __next__() method that returns the next value in the sequence.\n",
    "\n",
    "You can also perform manual iteration by calling the iter() function on an iterable object, and then calling the next() function on the returned iterator object to get the next value.\n",
    "\n",
    "The range() function returns an iterable object of numbers from a specified start value (inclusive) to a specified end value (exclusive) with a specified step.\n",
    "\n",
    "An iterable is any object that can return an iterator, usually by implementing the __iter__() method. The iterable protocol requires an __iter__() method that returns the iterator object."
   ]
  },
  {
   "cell_type": "code",
   "execution_count": null,
   "metadata": {},
   "outputs": [],
   "source": [
    "# Manual iteration using iter() and next()\n",
    "fruits = ['apple', 'banana', 'cherry']\n",
    "iter_fruits = iter(fruits)\n",
    "\n",
    "print(next(iter_fruits))\n",
    "print(next(iter_fruits))\n",
    "print(next(iter_fruits))\n",
    "\n",
    "# Iteration protocol\n",
    "class MyIterator:\n",
    "    def __init__(self, start, end):\n",
    "        self.current = start\n",
    "        self.end = end\n",
    "        \n",
    "    def __iter__(self):\n",
    "        return self\n",
    "    \n",
    "    def __next__(self):\n",
    "        if self.current >= self.end:\n",
    "            raise StopIteration\n",
    "        result = self.current\n",
    "        self.current += 1\n",
    "        return result\n",
    "    \n",
    "my_iterator = MyIterator(0, 3)\n",
    "for num in my_iterator:\n",
    "    print(num)\n",
    "\n",
    "# Iterable\n",
    "class MyIterable:\n",
    "    def __init__(self, start, end):\n",
    "        self.start = start\n",
    "        self.end = end\n",
    "        \n",
    "    def __iter__(self):\n",
    "        return MyIterator(self.start, self.end)\n",
    "    \n",
    "my_iterable = MyIterable(0, 3)\n",
    "for num in my_iterable:\n",
    "    print(num)\n",
    "\n",
    "# Range iterable\n",
    "for num in range(0, 3):\n",
    "    print(num)"
   ]
  },
  {
   "attachments": {},
   "cell_type": "markdown",
   "metadata": {},
   "source": [
    "## Generators\n",
    "\n",
    "Python generators are a type of iterator that can be created using the yield keyword. When a generator function is called, it doesn't actually run the function but returns an iterator object. The generator function is only run when the next value in the sequence is requested using the next() function.\n",
    "\n",
    "Generator comprehensions and generator expressions are similar to list comprehensions and list expressions, but they create a generator object instead of a list. This means that the values are generated on-the-fly as they are requested, rather than being generated all at once and stored in memory."
   ]
  },
  {
   "cell_type": "code",
   "execution_count": null,
   "metadata": {},
   "outputs": [],
   "source": [
    "# Example of a generator function\n",
    "def countdown(n):\n",
    "    while n > 0:\n",
    "        yield n\n",
    "        n -= 1\n",
    "\n",
    "# Example of using a generator expression\n",
    "gen_exp = (x**2 for x in range(10))\n",
    "\n",
    "# Example of using a generator comprehension\n",
    "gen_comp = (x for x in range(10) if x % 2 == 0)"
   ]
  },
  {
   "attachments": {},
   "cell_type": "markdown",
   "metadata": {},
   "source": [
    "## Dynamic typing\n",
    "\n",
    "In Python, the terms strong typing and weak typing are often used interchangeably with dynamic typing and static typing. Python is dynamically typed, which means that the interpreter infers the data type of a variable based on the value assigned to it. Python enforces strong typing because type errors will raise exceptions at runtime if the interpreter detects that an operation cannot be performed on a certain data type.\n",
    "\n",
    "Type hinting is a feature introduced in Python 3.5 that allows developers to annotate the types of function arguments and return values. This allows for better code readability and enables static type checkers to catch type errors at compile time rather than runtime. Type hinting is optional in Python and does not affect the dynamic typing behavior of the language."
   ]
  },
  {
   "cell_type": "code",
   "execution_count": null,
   "metadata": {},
   "outputs": [],
   "source": [
    "# dynamic typing\n",
    "x = 5\n",
    "print(type(x))  # <class 'int'>\n",
    "\n",
    "x = \"hello\"\n",
    "print(type(x))  # <class 'str'>\n",
    "\n",
    "# strong typing\n",
    "x = 5\n",
    "y = \"hello\"\n",
    "z = x + y  # TypeError: unsupported operand type(s) for +: 'int' and 'str'\n",
    "\n",
    "# weak typing\n",
    "x = 5\n",
    "y = 2.5\n",
    "z = x + y  # no error, z is 7.5\n",
    "\n",
    "# type hinting\n",
    "def greeting(name: str) -> str:\n",
    "    return f\"Hello, {name}!\"\n",
    "\n",
    "print(greeting(\"Chief\"))  # Hello, Chief!\n",
    "print(greeting(123))  # TypeError: 'int' object is not callable"
   ]
  },
  {
   "attachments": {},
   "cell_type": "markdown",
   "metadata": {},
   "source": [
    "## Shared References\n",
    "\n",
    "In Python, a weak reference is a reference to an object that does not increase its reference count. A weak reference is useful when you want to keep track of an object, but you don’t want to prevent it from being garbage collected."
   ]
  },
  {
   "cell_type": "code",
   "execution_count": null,
   "metadata": {},
   "outputs": [],
   "source": [
    "import weakref\n",
    "\n",
    "class MyClass:\n",
    "    def __init__(self, name):\n",
    "        self.name = name\n",
    "    \n",
    "    def __repr__(self):\n",
    "        return f\"MyClass({self.name})\"\n",
    "    \n",
    "obj = MyClass(\"example\")\n",
    "weak_ref = weakref.ref(obj)\n",
    "\n",
    "print(f\"Object: {obj}\")\n",
    "print(f\"Weak Reference: {weak_ref()}\")\n",
    "\n",
    "del obj\n",
    "print(f\"Weak Reference after deleting the original object: {weak_ref()}\")"
   ]
  },
  {
   "attachments": {},
   "cell_type": "markdown",
   "metadata": {},
   "source": [
    "## Strings\n",
    "\n",
    "In Python, a raw string is a string that is written exactly as-is, with no special meaning given to backslashes. Normally, backslashes are used as escape characters to represent certain special characters within a string, such as a newline or a tab. However, if you prefix a string with the letter 'r', it becomes a raw string, and backslashes are treated as regular characters."
   ]
  },
  {
   "cell_type": "code",
   "execution_count": null,
   "metadata": {},
   "outputs": [],
   "source": [
    "# A regular string\n",
    "str1 = \"Hello\\nworld!\"\n",
    "print(str1) # Output: Hello\n",
    "            #         world!\n",
    "\n",
    "# A raw string\n",
    "str2 = r\"Hello\\nworld!\"\n",
    "print(str2) # Output: Hello\\nworld!"
   ]
  },
  {
   "attachments": {},
   "cell_type": "markdown",
   "metadata": {},
   "source": [
    "ASCII strings are a subset of Unicode strings that use only the first 128 code points (i.e., characters) of the Unicode character set. ASCII strings are typically used to represent text that is primarily in the English language, since all of the characters used in English fall within the ASCII range.\n",
    "\n",
    "Unicode strings, on the other hand, can represent any character in the Unicode character set, which includes characters from many different languages and scripts. Unicode strings are often used to represent text that includes characters outside of the ASCII range.\n",
    "\n",
    "It's important to note that in Python 3.x, all strings are Unicode strings by default. This means that if you don't specify a string as ASCII or Unicode, it will be treated as a Unicode string.\n",
    "\n",
    "In Python 2.x, however, strings are ASCII by default, and you need to use the u prefix to indicate a Unicode string."
   ]
  },
  {
   "cell_type": "code",
   "execution_count": null,
   "metadata": {},
   "outputs": [],
   "source": [
    "ascii_str = \"Hello, world!\"\n",
    "print(ascii_str) # Output: Hello, world!\n",
    "\n",
    "unicode_str = \"こんにちは世界\"\n",
    "print(unicode_str) # Output: こんにちは世界"
   ]
  },
  {
   "attachments": {},
   "cell_type": "markdown",
   "metadata": {},
   "source": [
    "## Dictionares\n",
    "\n",
    "Python dictionaries are a built-in data structure that allows you to store key-value pairs. The keys in a dictionary are unique and immutable, while the values can be any Python object.\n",
    "\n",
    "OrderedDict is a subclass of the standard dict type that maintains the order in which items were inserted into the dictionary. This can be useful if you need to iterate over the items in a dictionary in a specific order. \n",
    "\n",
    "defaultdict is another subclass of dict that provides a default value for keys that do not exist in the dictionary. This can be useful if you want to avoid key errors when accessing items in the dictionary."
   ]
  },
  {
   "cell_type": "code",
   "execution_count": null,
   "metadata": {},
   "outputs": [],
   "source": [
    "from collections import OrderedDict, defaultdict\n",
    "\n",
    "# ordereddict\n",
    "my_dict = OrderedDict()\n",
    "my_dict['apple'] = 3\n",
    "my_dict['banana'] = 2\n",
    "my_dict['orange'] = 1\n",
    "\n",
    "print(my_dict) # Output: OrderedDict([('apple', 3), ('banana', 2), ('orange', 1)])\n",
    "\n",
    "# defaultdict\n",
    "my_dict = defaultdict(int)\n",
    "my_dict['apple'] = 3\n",
    "my_dict['banana'] = 2\n",
    "\n",
    "print(my_dict['orange']) # Output: 0\n"
   ]
  },
  {
   "attachments": {},
   "cell_type": "markdown",
   "metadata": {},
   "source": [
    "## Sets\n",
    "\n",
    "In Python, a frozenset is an immutable version of a set. Like a set, a frozenset is an unordered collection of unique elements. However, unlike a set, a frozenset cannot be modified once it is created. This can be useful when you need to create a set of elements that should not be modified during the course of your program."
   ]
  },
  {
   "cell_type": "code",
   "execution_count": null,
   "metadata": {},
   "outputs": [],
   "source": [
    "# Create a frozenset\n",
    "my_frozenset = frozenset([1, 2, 3, 4])\n",
    "\n",
    "# Try to modify the frozenset (this will raise a TypeError)\n",
    "my_frozenset.add(5)\n",
    "\n",
    "# Use the frozenset in a program\n",
    "for element in my_frozenset:\n",
    "    print(element)"
   ]
  },
  {
   "attachments": {},
   "cell_type": "markdown",
   "metadata": {},
   "source": [
    "## Scopes in Python\n",
    "\n",
    "In Python, global and nonlocal are keywords that allow you to access variables in outer scopes. Here's a simple definition of each:\n",
    "\n",
    "- **global**: The global keyword allows you to modify a global variable from within a function.\n",
    "- **nonlocal**: The nonlocal keyword allows you to modify a variable from an outer, non-global scope.\n",
    "\n",
    "In Python, a closure is a function object that remembers values in the enclosing lexical scope even if they are not present in memory. It is a record that stores a function together with an environment: a mapping associating each free variable of the function with the value or reference to which the name was bound when the closure was created.\n",
    "\n",
    "In Python, a variable's scope determines where in a program the variable can be accessed. There are three types of variable scopes in Python:\n",
    "\n",
    "- **Local scope**: Variables defined inside a function have local scope and can only be accessed within that function.\n",
    "- **Global scope**: Variables defined outside of any function have global scope and can be accessed anywhere in the program.\n",
    "- **Enclosing scope**: Variables defined in a enclosing function have enclosing scope and can be accessed within nested functions.\n",
    "\n",
    "In Python, globals() and locals() are built-in functions that allow you to access the global and local namespace, respectively.\n",
    "\n",
    "- **globals()**: The globals() function returns a dictionary representing the global namespace. You can use this function to access or modify global variables from within a function.\n",
    "- **locals()**: The locals() function returns a dictionary representing the local namespace. You can use this function to access or modify local variables from within a function.\n",
    "\n",
    "It is possible to mutate the dictionaries returned by the globals() and locals() functions in Python. However, it is generally not recommended to do so as it can lead to unexpected behavior and can make your code harder to understand and debug."
   ]
  },
  {
   "cell_type": "code",
   "execution_count": null,
   "metadata": {},
   "outputs": [],
   "source": [
    "## GLOBAL AND NONLOCAL KEYWORDS\n",
    "\n",
    "# Define a global variable\n",
    "x = 0\n",
    "\n",
    "def my_function():\n",
    "    global x\n",
    "    x = 1\n",
    "    print(f\"Inside my_function: x = {x}\") # Output: Inside my_function: x = 1\n",
    "\n",
    "def outer_function():\n",
    "    y = 0\n",
    "    def inner_function():\n",
    "        nonlocal y\n",
    "        y = 1\n",
    "        print(f\"Inside inner_function: y = {y}\") # Output: Inside inner_function: y = 1\n",
    "    inner_function()\n",
    "    print(f\"Inside outer_function: y = {y}\") # Output: Inside outer_function: y = 1\n",
    "\n",
    "my_function()\n",
    "outer_function()\n",
    "print(f\"After function calls: x = {x}\") # Output: After function calls: x = 1\n",
    "\n",
    "\n",
    "## CLOSURES\n",
    "\n",
    "def outer_function(x):\n",
    "    def inner_function(y):\n",
    "        return x + y\n",
    "    return inner_function\n",
    "\n",
    "closure = outer_function(10)\n",
    "result = closure(5)\n",
    "print(result) # Output: 15\n",
    "\n",
    "\n",
    "## GLOBALS AND LOCALS\n",
    "x = 0\n",
    "\n",
    "def my_function():\n",
    "    y = 1\n",
    "    print(f\"Inside my_function: x = {globals()['x']}, y = {locals()['y']}\")\n",
    "    globals()['x'] = 2\n",
    "    locals()['y'] = 3\n",
    "    print(f\"Inside my_function after mutation: x = {globals()['x']}, y = {locals()['y']}\")\n",
    "\n",
    "my_function()\n",
    "print(f\"After function call: x = {x}\") # Output: After function call: x = 2\n"
   ]
  },
  {
   "attachments": {},
   "cell_type": "markdown",
   "metadata": {},
   "source": [
    "## PYTHON LIBRARIES\n",
    "\n",
    "- **Pickle**: The pickle module in Python provides a way to serialize and deserialize Python objects. This is useful when you need to save Python objects to a file or send them over a network. \n",
    "- **Contextlib**: The contextlib module provides a way to work with context managers in Python. A context manager is an object that defines a __enter__ and __exit__ method and can be used in a with statement. \n",
    "- **Importlib**: The importlib module provides a way to programmatically import Python modules. \n",
    "- **Pkgutil**: The pkgutil module provides utilities for working with Python packages. One useful function is iter_modules, which can be used to iterate over all the modules in a package.\n",
    "- **Socket**: The socket module provides a way to create network sockets in Python. This can be useful when you need to send and receive data over a network."
   ]
  },
  {
   "cell_type": "code",
   "execution_count": null,
   "metadata": {},
   "outputs": [],
   "source": [
    "## PICKLE\n",
    "\n",
    "import pickle\n",
    "\n",
    "my_dict = {'name': 'John', 'age': 30, 'city': 'New York'}\n",
    "with open('my_dict.pickle', 'wb') as f:\n",
    "    pickle.dump(my_dict, f)\n",
    "\n",
    "with open('my_dict.pickle', 'rb') as f:\n",
    "    loaded_dict = pickle.load(f)\n",
    "\n",
    "print(loaded_dict) # Output: {'name': 'John', 'age': 30, 'city': 'New York'}\n",
    "\n",
    "## CONTEXTLIB\n",
    "\n",
    "from contextlib import contextmanager\n",
    "\n",
    "@contextmanager\n",
    "def my_context():\n",
    "    print('Entering context')\n",
    "    yield\n",
    "    print('Exiting context')\n",
    "\n",
    "with my_context():\n",
    "    print('Inside context')\n",
    "\n",
    "\n",
    "## IMPORTLIB\n",
    "\n",
    "import importlib\n",
    "\n",
    "my_module = importlib.import_module('math')\n",
    "print(my_module.pi) # Output: 3.141592653589793\n",
    "\n",
    "\n",
    "## PKGUTIL\n",
    "\n",
    "import pkgutil\n",
    "\n",
    "for module_info in pkgutil.iter_modules(['my_package']):\n",
    "    print(module_info.name)\n",
    "\n",
    "\n",
    "## SOCKET\n",
    "\n",
    "import socket\n",
    "\n",
    "# Server code\n",
    "server_socket = socket.socket(socket.AF_INET, socket.SOCK_STREAM)\n",
    "server_socket.bind(('localhost', 12345))\n",
    "server_socket.listen(1)\n",
    "\n",
    "client_socket, client_address = server_socket.accept()\n",
    "print(f\"Connection from {client_address}\")\n",
    "\n",
    "data = client\n"
   ]
  },
  {
   "attachments": {},
   "cell_type": "markdown",
   "metadata": {},
   "source": [
    "## MODULES IN PYTHON\n",
    "\n",
    "In Python, the sys.modules dictionary is a cache that stores loaded modules so that they can be quickly accessed in the future. When you import a module, Python first checks the sys.modules dictionary to see if the module is already loaded. If it is, Python simply returns the cached module. If it is not, Python loads the module and adds it to the cache."
   ]
  },
  {
   "cell_type": "code",
   "execution_count": null,
   "metadata": {},
   "outputs": [],
   "source": [
    "import sys\n",
    "\n",
    "# Check if a module is already loaded\n",
    "if 'my_module' in sys.modules:\n",
    "    # If it is, reload the module\n",
    "    my_module = reload(sys.modules['my_module'])\n",
    "else:\n",
    "    # If it is not, import the module\n",
    "    import my_module\n",
    "\n",
    "# Use the module\n",
    "result = my_module.my_function()"
   ]
  },
  {
   "attachments": {},
   "cell_type": "markdown",
   "metadata": {},
   "source": [
    "In Python, you can use the importlib module to dynamically import and reload modules at runtime. This can be useful if you need to import modules based on user input or if you need to reload a module to pick up changes to its source code."
   ]
  },
  {
   "cell_type": "code",
   "execution_count": null,
   "metadata": {},
   "outputs": [],
   "source": [
    "import importlib\n",
    "\n",
    "# Import the module\n",
    "my_module = importlib.import_module('my_module')\n",
    "\n",
    "# Use the module\n",
    "result = my_module.my_function()\n",
    "\n",
    "# Reload the module\n",
    "my_module = importlib.reload(my_module)\n",
    "\n",
    "# Use the module again\n",
    "result = my_module.my_function()"
   ]
  }
 ],
 "metadata": {
  "language_info": {
   "name": "python"
  },
  "orig_nbformat": 4
 },
 "nbformat": 4,
 "nbformat_minor": 2
}
