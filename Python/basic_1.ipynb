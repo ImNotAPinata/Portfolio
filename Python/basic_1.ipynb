{
 "cells": [
  {
   "attachments": {},
   "cell_type": "markdown",
   "metadata": {},
   "source": [
    "# PYTHON GUIDE - BASICS 1"
   ]
  },
  {
   "attachments": {},
   "cell_type": "markdown",
   "metadata": {},
   "source": [
    "## Condition statements \n",
    "\n",
    "Are used to control the flow of your program based on certain conditions. \n",
    "The most common condition statements are the if, elif, and else statements."
   ]
  },
  {
   "cell_type": "code",
   "execution_count": null,
   "metadata": {},
   "outputs": [],
   "source": [
    "x = 5\n",
    "\n",
    "if x > 0:\n",
    "    print(\"x is positive\")\n",
    "elif x < 0:\n",
    "    print(\"x is negative\")\n",
    "else:\n",
    "    print(\"x is zero\")"
   ]
  },
  {
   "attachments": {},
   "cell_type": "markdown",
   "metadata": {},
   "source": [
    "## Loop statements\n",
    "\n",
    "Are used to repeat a block of code multiple times. \n",
    "The two most common loop statements in Python are the for loop and the while loop."
   ]
  },
  {
   "cell_type": "code",
   "execution_count": null,
   "metadata": {},
   "outputs": [],
   "source": [
    "# FOR\n",
    "# Let's define a list of numbers\n",
    "numbers = [1, 2, 3, 4, 5]\n",
    "\n",
    "# Now, let's use a for loop to iterate over each number in the list\n",
    "for num in numbers:\n",
    "    print(num)\n",
    "\n",
    "# WHILE\n",
    "# Let's define a variable called count\n",
    "count = 0\n",
    "\n",
    "# Now, let's use a while loop to repeat a block of code until a condition is no longer true\n",
    "while count < 5:\n",
    "    print(count)\n",
    "    count += 1\n"
   ]
  },
  {
   "attachments": {},
   "cell_type": "markdown",
   "metadata": {},
   "source": [
    "Control of cycle execution statements \n",
    "\n",
    "Are used to control how the loop executes and to exit the loop prematurely under certain conditions.\n",
    "The control flow statements in python are break, continue, and pass."
   ]
  },
  {
   "cell_type": "code",
   "execution_count": null,
   "metadata": {},
   "outputs": [],
   "source": [
    "# BREAK\n",
    "# Let's define a list of numbers\n",
    "numbers = [1, 2, 3, 4, 5]\n",
    "\n",
    "# Now, let's use a for loop to iterate over each number in the list\n",
    "for num in numbers:\n",
    "    if num == 3:\n",
    "        break\n",
    "    print(num)\n",
    "\n",
    "# CONTINUE\n",
    "# Let's define a list of numbers\n",
    "numbers = [1, 2, 3, 4, 5]\n",
    "\n",
    "# Now, let's use a for loop to iterate over each number in the list\n",
    "for num in numbers:\n",
    "    if num == 3:\n",
    "        continue\n",
    "    print(num)\n",
    "\n",
    "# PASS\n",
    "# Let's define a function that we haven't implemented yet\n",
    "def my_function():\n",
    "    pass"
   ]
  },
  {
   "attachments": {},
   "cell_type": "markdown",
   "metadata": {},
   "source": [
    "## Dynamic Typing\n",
    "\n",
    "It means that you don't have to specify the data type of a variable before using it in Python. Instead, Python will automatically figure out the data type based on the value assigned to it at runtime. This makes Python code more flexible and easier to write, but it can also lead to errors if you accidentally assign a value of the wrong data type to a variable."
   ]
  },
  {
   "cell_type": "code",
   "execution_count": null,
   "metadata": {},
   "outputs": [],
   "source": [
    "# Assign an integer to a variable\n",
    "x = 5\n",
    "\n",
    "# Assign a string to the same variable\n",
    "x = \"Hello, world!\"\n",
    "\n",
    "# Assign a list to the same variable\n",
    "x = [1, 2, 3]"
   ]
  },
  {
   "attachments": {},
   "cell_type": "markdown",
   "metadata": {},
   "source": [
    "mutable and immutable\n",
    "\n",
    "Immutable objects can't be changed after they're created. Examples include numbers and strings. Once you create them, you can't modify their values.\n",
    "\n",
    "Mutable objects, on the other hand, can be changed after they're created. Examples include lists and dictionaries. You can modify their values directly.\n",
    "\n",
    "So, the main difference between them is that mutable objects can be changed, while immutable objects can't be changed."
   ]
  },
  {
   "cell_type": "code",
   "execution_count": null,
   "metadata": {},
   "outputs": [],
   "source": [
    "# Create an integer and a list\n",
    "a = 1\n",
    "b = [1, 2, 3]\n",
    "\n",
    "# Try to modify the integer and the list\n",
    "a = 2\n",
    "b[0] = 4\n",
    "\n",
    "# Print the values of a and b\n",
    "print(a)  # Output: 2\n",
    "print(b)  # Output: [4, 2, 3]"
   ]
  },
  {
   "attachments": {},
   "cell_type": "markdown",
   "metadata": {},
   "source": [
    "## Shared references\n",
    "\n",
    "Variables contain references to objects, not the actual values. When you assign a variable to an object, you're creating a reference to that object.\n",
    "\n",
    "This can sometimes lead to unexpected behavior when you're working with mutable objects like lists. When you assign one variable to another that references the same object, any changes you make to the object through one variable will also be reflected in the other variable.\n",
    "\n",
    "To avoid this, you can create a copy of the object and assign it to a new variable, so that the two variables reference separate objects.\n",
    "It's important to note that == and is have different meanings in Python. == checks for equality of values, while is checks for identity of objects."
   ]
  },
  {
   "cell_type": "code",
   "execution_count": null,
   "metadata": {},
   "outputs": [],
   "source": [
    "a = [1, 2, 3]\n",
    "b = [1, 2, 3]\n",
    "print(a == b)  # Output: True\n",
    "print(a is b)  # Output: False"
   ]
  },
  {
   "attachments": {},
   "cell_type": "markdown",
   "metadata": {},
   "source": [
    "In-place changes are modifications made to an object's contents that do not create a new object."
   ]
  },
  {
   "cell_type": "code",
   "execution_count": null,
   "metadata": {},
   "outputs": [],
   "source": [
    "# Create a string and assign it to variable s\n",
    "s = \"hello\"\n",
    "\n",
    "# Assign a new value to an index in the string in-place\n",
    "s = s[:3] + 'p' + s[4:]\n",
    "\n",
    "# Print the string\n",
    "print(s)  # Output: \"helpo\""
   ]
  },
  {
   "attachments": {},
   "cell_type": "markdown",
   "metadata": {},
   "source": [
    "## Numbers\n",
    "\n",
    "Are a data type that represents numerical values. There are three basic types of numbers in Python: integers, floating-point numbers, and complex numbers.\n",
    "\n",
    "- Integers: Integers are whole numbers, such as -2, -1, 0, 1, 2, etc. In Python, integers have unlimited precision, which means that they can be arbitrarily large or small.\n",
    "\n",
    "- Floating-point numbers: Floating-point numbers are decimal numbers, such as 1.0, -3.14, 2.71828, etc. In Python, floating-point numbers are represented using the \"float\" type, which is implemented using the IEEE 754 standard.\n",
    "\n",
    "- Complex numbers: Complex numbers are numbers that have a real part and an imaginary part, such as 1+2j, -3-4j, etc. In Python, complex numbers are represented using the \"complex\" type.\n",
    "\n",
    "In addition to the basic types of numbers, Python also provides support for representing numbers in different bases, including decimal, hexadecimal, octal, and binary.\n",
    "\n",
    "- Decimal: Decimal numbers are represented using the standard base-10 system, which is the most common number system used in everyday life.\n",
    "\n",
    "- Hexadecimal: Hexadecimal numbers are represented using the base-16 system, which uses the digits 0-9 and the letters A-F to represent numbers from 0-15. Hexadecimal numbers are often used to represent colors and memory addresses.\n",
    "\n",
    "- Octal: Octal numbers are represented using the base-8 system, which uses the digits 0-7 to represent numbers from 0-7.\n",
    "\n",
    "- Binary: Binary numbers are represented using the base-2 system, which uses only the digits 0 and 1 to represent numbers.\n",
    "\n",
    "Python provides a variety of basic operations that you can perform on numbers, including addition (+), subtraction (-), multiplication (*), division (/), floor division (//), modulo (%), and exponentiation (**). You can also use parentheses to group operations and change the order of evaluation."
   ]
  },
  {
   "cell_type": "code",
   "execution_count": null,
   "metadata": {},
   "outputs": [],
   "source": [
    "# Integer arithmetic\n",
    "x = 5\n",
    "y = 2\n",
    "\n",
    "print(x + y)    # Output: 7\n",
    "print(x - y)    # Output: 3\n",
    "print(x * y)    # Output: 10\n",
    "print(x / y)    # Output: 2.5\n",
    "print(x // y)   # Output: 2 (floor division)\n",
    "print(x % y)    # Output: 1 (modulo)\n",
    "print(x ** y)   # Output: 25 (exponentiation)\n",
    "\n",
    "# Floating-point arithmetic\n",
    "a = 3.14\n",
    "b = 2.0\n",
    "\n",
    "print(a + b)    # Output: 5.14\n",
    "print(a - b)    # Output: 1.14\n",
    "print(a * b)    # Output: 6.28\n",
    "print(a / b)    # Output: 1.57\n",
    "print(a // b)   # Output: 1 (floor division)\n",
    "print(a % b)    # Output: 1.14 (modulo)\n",
    "print(a ** b)   # Output: 9.8596 (exponentiation)\n",
    "\n",
    "# Using parentheses to change order of evaluation\n",
    "c = 4\n",
    "d = 5\n",
    "\n",
    "print(c * d + 3)    # Output: 23\n",
    "print(c * (d + 3))  # Output: 32\n",
    "\n",
    "# Using binary, octal, and hexadecimal notation\n",
    "print(0b1010)   # Output: 10 (binary)\n",
    "print(0o12)     # Output: 10 (octal)\n",
    "print(0xA)      # Output: 10 (hexadecimal)"
   ]
  },
  {
   "attachments": {},
   "cell_type": "markdown",
   "metadata": {},
   "source": [
    "## Strings\n",
    "\n",
    "A string is a sequence of characters. In Python, strings are enclosed in single quotes ('...') or double quotes (\"...\"). Multi-line strings can be created by enclosing the text in triple quotes (either '''...''' or \"\"\"...\"\"\").\n",
    "\n",
    "- Special characters: Some characters have special meanings in strings, such as the backslash (), which is used to escape special characters or create newlines, and the single quote ('), which can be escaped with a backslash if the string is enclosed in single quotes.\n",
    "\n",
    "- Basic operations: Strings support several basic operations, such as concatenation (+), repetition (*), and comparison (==, !=, <, >, <=, >=).\n",
    "\n",
    "- Methods: Strings have many built-in methods, such as upper() (converts string to uppercase), lower() (converts string to lowercase), strip() (removes whitespace from both ends of a string), split() (splits a string into a list of substrings), and join() (joins a list of strings into a single string).\n",
    "\n",
    "- Indexing and slicing: Strings can be indexed (accessing a single character by its position in the string) and sliced (accessing a substring by specifying a start and end position). Indexing starts at 0, and negative indexes count from the end of the string.\n",
    "\n",
    "- Formatting: Strings can be formatted using the format() method, which allows variables to be substituted into a string. This can be done using positional arguments or named arguments."
   ]
  },
  {
   "cell_type": "code",
   "execution_count": null,
   "metadata": {},
   "outputs": [],
   "source": [
    "# Defining strings\n",
    "s1 = 'Hello'\n",
    "s2 = \"world\"\n",
    "s3 = '''This is a \n",
    "multi-line string'''\n",
    "\n",
    "# Special characters\n",
    "s4 = \"This string contains a quote: '\"\n",
    "\n",
    "# Basic operations\n",
    "s5 = s1 + ' ' + s2    # Concatenation\n",
    "s6 = s1 * 3           # Repetition\n",
    "s7 = (s1 == s2)       # Comparison\n",
    "\n",
    "# Methods\n",
    "s8 = s1.upper()       # Convert to uppercase\n",
    "s9 = s2.lower()       # Convert to lowercase\n",
    "s10 = s3.strip()      # Remove whitespace\n",
    "s11 = s1.split('l')   # Split into substrings\n",
    "s12 = ''.join([s1, s2])  # Join list of strings\n",
    "\n",
    "# Indexing and slicing\n",
    "s13 = s1[0]           # Access first character\n",
    "s14 = s1[-1]          # Access last character\n",
    "s15 = s1[1:3]         # Access substring\n",
    "\n",
    "# Formatting\n",
    "s16 = 'My name is {} and I am {} years old'.format('Alice', 30)\n",
    "s17 = 'The {animal} jumped over the {object}'.format(animal='fox', object='dog')\n",
    "\n",
    "print(s5)\n",
    "print(s6)\n",
    "print(s7)\n",
    "print(s8)\n",
    "print(s9)\n",
    "print(s10)\n",
    "print(s11)\n",
    "print(s12)\n",
    "print(s13)\n",
    "print(s14)\n",
    "print(s15)\n",
    "print(s16)\n",
    "print(s17)"
   ]
  },
  {
   "attachments": {},
   "cell_type": "markdown",
   "metadata": {},
   "source": [
    "## Lists \n",
    "\n",
    "A list is a collection of items in a specific order, and it's defined by square brackets. It's a mutable data type, which means you can add, remove, or modify its elements after you create it.\n",
    "\n",
    "Some basic operations you can do with lists include appending or inserting new items, removing items, sorting, and reversing the order.\n",
    "\n",
    "Indexing and slicing are ways to access specific items in a list. Indexing uses square brackets and starts at 0 for the first item. Slicing allows you to access a subset of items in a list.\n",
    "\n",
    "A tuple is similar to a list, but it's immutable, which means you can't modify its elements once you create it."
   ]
  },
  {
   "cell_type": "code",
   "execution_count": null,
   "metadata": {},
   "outputs": [],
   "source": [
    "# Creating a list\n",
    "my_list = [1, 2, 3, 'four', 'five']\n",
    "\n",
    "# Accessing elements\n",
    "print(my_list[0])  # Output: 1\n",
    "print(my_list[3])  # Output: 'four'\n",
    "\n",
    "# Modifying elements\n",
    "my_list[2] = 'three'\n",
    "print(my_list)  # Output: [1, 2, 'three', 'four', 'five']\n",
    "\n",
    "# Concatenating lists\n",
    "new_list = [6, 7, 8]\n",
    "combined_list = my_list + new_list\n",
    "print(combined_list)  # Output: [1, 2, 'three', 'four', 'five', 6, 7, 8]\n",
    "\n",
    "# Replicating lists\n",
    "repeated_list = my_list * 3\n",
    "print(repeated_list)  # Output: [1, 2, 'three', 'four', 'five', 1, 2, 'three', 'four', 'five', 1, 2, 'three', 'four', 'five']\n",
    "\n",
    "# Checking membership\n",
    "print('four' in my_list)  # Output: True\n",
    "print('six' in my_list)  # Output: False\n",
    "\n",
    "# Sorting a List\n",
    "numbers = [3, 1, 4, 2, 5]\n",
    "numbers.sort()\n",
    "print(numbers)  # Output: [1, 2, 3, 4, 5]\n",
    "\n",
    "# Indexing and slicing a list\n",
    "fruits = ['apple', 'banana', 'orange', 'kiwi']\n",
    "print(fruits[1])  # Output: 'banana'\n",
    "print(fruits[1:3])  # Output: ['banana', 'orange']\n",
    "\n",
    "# Creating a Tuple\n",
    "coordinates = (3, 4)"
   ]
  },
  {
   "attachments": {},
   "cell_type": "markdown",
   "metadata": {},
   "source": [
    "## Dictionaries\n",
    "\n",
    "A Dictionary is a collection of key-value pairs, where each key is unique and maps to a value. It's defined by curly braces, and each key-value pair is separated by a colon.\n",
    "\n",
    "Some properties of dictionaries include:\n",
    "\n",
    "- They are unordered, meaning that the order of items is not guaranteed.\n",
    "- They are mutable, meaning you can add, remove, or modify items after you create the dictionary.\n",
    "- Keys must be immutable types, such as strings or numbers, while values can be of any type."
   ]
  },
  {
   "cell_type": "code",
   "execution_count": null,
   "metadata": {},
   "outputs": [],
   "source": [
    "# Creating a dictionary\n",
    "person = {'name': 'Alice', 'age': 30, 'city': 'New York'}\n",
    "\n",
    "# Accessing a value\n",
    "print(person['name'])  # Output: 'Alice'\n",
    "\n",
    "# Adding a new key-value pair\n",
    "person['occupation'] = 'teacher'\n",
    "print(person)  # Output: {'name': 'Alice', 'age': 30, 'city': 'New York', 'occupation': 'teacher'}\n",
    "\n",
    "# Removing a key-value pair\n",
    "del person['age']\n",
    "print(person)  # Output: {'name': 'Alice', 'city': 'New York', 'occupation': 'teacher'}\n",
    "\n",
    "# Checking if a key exists\n",
    "if 'age' in person:\n",
    "    print(person['age'])\n",
    "else:\n",
    "    print('Age is not in the dictionary')\n",
    "\n",
    "# Iterating over a dictionary\n",
    "for key, value in person.items():\n",
    "    print(key, value)"
   ]
  },
  {
   "attachments": {},
   "cell_type": "markdown",
   "metadata": {},
   "source": [
    "## Tuples\n",
    "\n",
    "- A tuple is an ordered collection of elements, similar to a list.\n",
    "- Tuples are immutable, meaning once a tuple is created, its contents cannot be changed.\n",
    "- Tuples are created using parentheses ( ) and commas to separate elements.\n",
    "\n",
    "In general, tuples are used to group related pieces of information together, especially when the order of the information matters. Tuples are often used in situations where immutability is important, such as when storing fixed data like days of the week or coordinates.\n",
    "\n",
    "Compared to lists, tuples have the advantage of being immutable, which makes them more efficient and secure for storing data that should not be changed. However, lists are more versatile and flexible, since they can be modified and can contain elements of different types."
   ]
  },
  {
   "cell_type": "code",
   "execution_count": null,
   "metadata": {},
   "outputs": [],
   "source": [
    "# Creating a tuple\n",
    "my_tuple = (1, 2, 3, 'four', 5.0)\n",
    "\n",
    "# Accessing values in a tuple\n",
    "print(my_tuple[0])   # Output: 1\n",
    "print(my_tuple[3])   # Output: 'four'\n",
    "\n",
    "# Attempting to change a value in a tuple (this will result in a TypeError)\n",
    "my_tuple[1] = 10\n",
    "\n",
    "# Converting a list to a tuple\n",
    "my_list = [1, 2, 3]\n",
    "my_tuple = tuple(my_list)\n",
    "print(my_tuple)  # Output: (1, 2, 3)"
   ]
  },
  {
   "attachments": {},
   "cell_type": "markdown",
   "metadata": {},
   "source": [
    "## Set\n",
    "\n",
    "- A set is an unordered collection of unique elements.\n",
    "- Sets are created using curly braces {} or the set() constructor.\n",
    "- Duplicate elements are automatically removed from sets.\n",
    "\n",
    "In general, sets are used to perform operations that involve comparing and combining collections of elements. Sets are often used in situations where uniqueness and order do not matter, and where the focus is on the relationships between the elements rather than on the specific values of the elements.\n",
    "\n",
    "Some basic methods and operations that can be performed on sets include adding and removing elements, combining sets, finding the intersection of sets, and testing for membership."
   ]
  },
  {
   "cell_type": "code",
   "execution_count": null,
   "metadata": {},
   "outputs": [],
   "source": [
    "# Creating a set\n",
    "my_set = {1, 2, 3, 4, 4, 4, 5}\n",
    "\n",
    "# Accessing values in a set\n",
    "print(my_set)   # Output: {1, 2, 3, 4, 5}\n",
    "\n",
    "# Adding elements to a set\n",
    "my_set.add(6)\n",
    "print(my_set)   # Output: {1, 2, 3, 4, 5, 6}\n",
    "\n",
    "# Removing elements from a set\n",
    "my_set.remove(2)\n",
    "print(my_set)   # Output: {1, 3, 4, 5, 6}\n",
    "\n",
    "# Combining sets\n",
    "set1 = {1, 2, 3}\n",
    "set2 = {3, 4, 5}\n",
    "set3 = set1.union(set2)\n",
    "print(set3)   # Output: {1, 2, 3, 4, 5}\n",
    "\n",
    "# Finding the intersection of sets\n",
    "set4 = set1.intersection(set2)\n",
    "print(set4)   # Output: {3}"
   ]
  },
  {
   "attachments": {},
   "cell_type": "markdown",
   "metadata": {},
   "source": [
    "## Files\n",
    "\n",
    "Files in Python are used to store data permanently. They can be used to read data from a file or write data to a file. To open a file, we can use the open() function which takes two arguments - the file name and the mode in which we want to open the file. The most common modes are 'r' for reading and 'w' for writing."
   ]
  },
  {
   "cell_type": "code",
   "execution_count": null,
   "metadata": {},
   "outputs": [],
   "source": [
    "# Open file in write mode\n",
    "file = open('example.txt', 'w')\n",
    "\n",
    "# Write some data to the file\n",
    "file.write('Hello, World!')\n",
    "\n",
    "# Close the file\n",
    "file.close()\n",
    "\n",
    "# Open file in read mode\n",
    "file = open('example.txt', 'r')\n",
    "\n",
    "# Read the data from the file\n",
    "data = file.read()\n",
    "\n",
    "# Close the file\n",
    "file.close()\n",
    "\n",
    "# Print the data\n",
    "print(data)"
   ]
  },
  {
   "attachments": {},
   "cell_type": "markdown",
   "metadata": {},
   "source": [
    "## Operators\n",
    "\n",
    "Are special symbols or keywords that perform specific operations on one or more operands (values or variables). There are several types of operators in Python:\n",
    "\n",
    "- Arithmetic operators: used to perform arithmetic operations like addition, subtraction, multiplication, division, modulus, etc.\n",
    "- Comparison operators: used to compare two values and return a boolean value (True or False).\n",
    "- Assignment operators: used to assign a value to a variable.\n",
    "- Bitwise operators: used to perform bitwise operations on binary numbers.\n",
    "- Logical operators: used to perform logical operations like and, or, not.\n",
    "- Membership operators: used to test whether a value or variable is a member of a sequence (like a string, list, or tuple).\n",
    "- Identity operators: used to test whether two objects have the same identity (i.e., they refer to the same object in memory).\n",
    "\n",
    "Operators are an essential part of programming, and using them correctly can make your code more efficient and readable."
   ]
  },
  {
   "cell_type": "code",
   "execution_count": null,
   "metadata": {},
   "outputs": [],
   "source": [
    "## Arithmetic operators\n",
    "\n",
    "x + y  # Addition\n",
    "x - y  # Subtraction\n",
    "x * y  # Multiplication\n",
    "x / y  # Division\n",
    "x // y # Floor division\n",
    "x % y  # Modulus\n",
    "x ** y # Exponentiation"
   ]
  },
  {
   "cell_type": "code",
   "execution_count": null,
   "metadata": {},
   "outputs": [],
   "source": [
    "## Comparison operators\n",
    "\n",
    "x == y  # Equals\n",
    "x != y # Not equals\n",
    "x > y # Greater than\n",
    "x < y # Less than\n",
    "x >= y # Greater than or equal to\n",
    "x <= y # Less than or equal to"
   ]
  },
  {
   "cell_type": "code",
   "execution_count": null,
   "metadata": {},
   "outputs": [],
   "source": [
    "## Assignment Operators\n",
    "\n",
    "x = 10    # Assigns the value 10 to variable x\n",
    "x += 5    # Adds 5 to the value of x (result: x = 15)\n",
    "x -= 3    # Subtracts 3 from the value of x (result: x = 12)\n",
    "x *= 2    # Multiplies the value of x by 2 (result: x = 24)\n",
    "x /= 4    # Divides the value of x by 4 (result: x = 6.0)\n",
    "x %= 2    # Assigns the remainder of x divided by 2 to x (result: x = 0)\n",
    "x **= 3   # Raises the value of x to the power of 3 (result: x = 0)\n",
    "x //= 2   # Assigns the floor division of x by 2 to x (result: x = 0)"
   ]
  },
  {
   "cell_type": "code",
   "execution_count": null,
   "metadata": {},
   "outputs": [],
   "source": [
    "## Logical Operators\n",
    "\n",
    "x and y # AND operator\n",
    "x or y # OR operator\n",
    "not x # NOT operator"
   ]
  },
  {
   "cell_type": "code",
   "execution_count": null,
   "metadata": {},
   "outputs": [],
   "source": [
    "## Membership Operators\n",
    "\n",
    "# Using 'in' operator with a list\n",
    "my_list = [1, 2, 3, 4, 5]\n",
    "print(3 in my_list) # Output: True\n",
    "\n",
    "# Using 'not in' operator with a tuple\n",
    "my_tuple = ('a', 'b', 'c')\n",
    "print('d' not in my_tuple) # Output: True\n",
    "\n",
    "# Using 'in' operator with a string\n",
    "my_string = 'Hello, world!'\n",
    "print('H' in my_string) # Output: True\n",
    "\n",
    "# Using 'not in' operator with a set\n",
    "my_set = {1, 2, 3}\n",
    "print(4 not in my_set) # Output: True"
   ]
  },
  {
   "cell_type": "code",
   "execution_count": null,
   "metadata": {},
   "outputs": [],
   "source": [
    "##  Identity operators\n",
    "\n",
    "x = 10\n",
    "y = 10\n",
    "z = [10]\n",
    "\n",
    "# 'is' checks if two objects have the same identity\n",
    "print(x is y)   # Output: True\n",
    "print(x is z)   # Output: False\n",
    "\n",
    "# 'is not' checks if two objects have different identity\n",
    "print(x is not y)   # Output: False\n",
    "print(x is not z)   # Output: True"
   ]
  },
  {
   "attachments": {},
   "cell_type": "markdown",
   "metadata": {},
   "source": [
    "## Scopes\n",
    "\n",
    "It's a region of a program where a variable is defined and accessible. There are two types of scopes in Python: global scope and local scope. The global scope refers to variables that are defined outside of any function, while the local scope refers to variables that are defined inside a function."
   ]
  },
  {
   "cell_type": "code",
   "execution_count": null,
   "metadata": {},
   "outputs": [],
   "source": [
    "x = 10 # global variable\n",
    "\n",
    "def my_func():\n",
    "    y = 5 # local variable\n",
    "    print(\"x inside my_func:\", x) # accessing global variable\n",
    "    print(\"y inside my_func:\", y) # accessing local variable\n",
    "\n",
    "my_func()\n",
    "print(\"x outside my_func:\", x) # accessing global variable"
   ]
  },
  {
   "attachments": {},
   "cell_type": "markdown",
   "metadata": {},
   "source": [
    "## Python standard libraries \n",
    "\n",
    "Python standard libraries are pre-written, reusable modules containing a set of functions and data structures that come with the Python installation. They are maintained and updated by the Python Software Foundation and the Python developer community.\n",
    "\n",
    "Here are brief descriptions of some Python standard libraries:\n",
    "\n",
    "- math: Provides mathematical functions for numerical operations.\n",
    "- random: Provides functions for generating random numbers and values.\n",
    "- re: Provides regular expression operations for pattern matching and text processing.\n",
    "- sys: Provides system-specific parameters and functions used by the interpreter.\n",
    "- os: Provides a way of interacting with the operating system, including file I/O and process management.\n",
    "- time: Provides functions for working with dates and times, including time zone support.\n",
    "- datetime: Provides classes for working with dates, times, and time intervals.\n",
    "- json: Provides functions for working with JSON (JavaScript Object Notation) data.\n",
    "- http: Provides classes and functions for working with HTTP (Hypertext Transfer Protocol) requests and responses.\n",
    "- urllib: Provides modules for working with URLs and URLs handling.\n",
    "- venv: Provides functionality for creating and managing virtual environments.\n",
    "- builtins: Provides a set of built-in functions and exceptions that are always available in Python."
   ]
  },
  {
   "attachments": {},
   "cell_type": "markdown",
   "metadata": {},
   "source": [
    "## Modules and Packages\n",
    "\n",
    "Modules in Python are files containing Python code. They allow you to organize your code into reusable blocks of code.\n",
    "To use a module, you can import it into your Python script using the import statement.\n",
    "\n",
    "Packages are modules that contain other modules. They are organized in a hierarchical directory structure and can be imported using the import statement.\n",
    "\n",
    "The __init__.py file is a special Python file that tells Python that a directory is a Python package.\n",
    "\n",
    "__name__ is a special variable in Python that contains the name of the current module.\n",
    "\n",
    "__main__ is a special module in Python that represents the entry point of the program."
   ]
  },
  {
   "cell_type": "code",
   "execution_count": null,
   "metadata": {},
   "outputs": [],
   "source": [
    "# example_module.py\n",
    "\n",
    "def greet(name):\n",
    "    print(f\"Hello, {name}!\")\n",
    "\n",
    "if __name__ == \"__main__\":\n",
    "    greet(\"Alice\")\n",
    "    greet(\"Bob\")"
   ]
  }
 ],
 "metadata": {
  "kernelspec": {
   "display_name": "Python 3",
   "language": "python",
   "name": "python3"
  },
  "language_info": {
   "codemirror_mode": {
    "name": "ipython",
    "version": 3
   },
   "file_extension": ".py",
   "mimetype": "text/x-python",
   "name": "python",
   "nbconvert_exporter": "python",
   "pygments_lexer": "ipython3",
   "version": "3.10.9"
  },
  "orig_nbformat": 4
 },
 "nbformat": 4,
 "nbformat_minor": 2
}
