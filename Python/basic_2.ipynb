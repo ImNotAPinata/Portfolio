{
 "cells": [
  {
   "attachments": {},
   "cell_type": "markdown",
   "metadata": {},
   "source": [
    "# PYTHON GUIDE - BASICS 2"
   ]
  },
  {
   "attachments": {},
   "cell_type": "markdown",
   "metadata": {},
   "source": [
    "## Condition statements \n",
    "\n",
    "below shows a usage example the ternary operator."
   ]
  },
  {
   "cell_type": "code",
   "execution_count": null,
   "metadata": {},
   "outputs": [],
   "source": [
    "a = 5\n",
    "b = 10\n",
    "\n",
    "max_num = a if a > b else b\n",
    "\n",
    "print(max_num)  # Output: 10"
   ]
  },
  {
   "attachments": {},
   "cell_type": "markdown",
   "metadata": {},
   "source": [
    "## Loop statements\n",
    "\n",
    "The else clause in loops has a special meaning. It is executed after the loop completes all its iterations, unless the loop is terminated early by a break statement."
   ]
  },
  {
   "cell_type": "code",
   "execution_count": null,
   "metadata": {},
   "outputs": [],
   "source": [
    "fruits = [\"apple\", \"banana\", \"cherry\"]\n",
    "for fruit in fruits:\n",
    "    if fruit == \"orange\":\n",
    "        print(\"Found an orange!\")\n",
    "        break\n",
    "else:\n",
    "    print(\"No oranges found.\")"
   ]
  },
  {
   "attachments": {},
   "cell_type": "markdown",
   "metadata": {},
   "source": [
    "## Iterators\n",
    "\n",
    "An iterator is an object in Python that allows us to traverse a collection of elements one by one. It provides a way to access the elements of an object sequentially without needing to know the internal structure of the object. In Python, an iterator is an object that implements the iterator protocol, which consists of two methods: __iter__() and __next__().\n",
    "\n",
    "Iterables are objects that can return an iterator when the iter() function is called on them. Built-in iterables can be iterated using loops, such as for loops, which are able to handle the details of creating and managing the iterator."
   ]
  },
  {
   "cell_type": "code",
   "execution_count": null,
   "metadata": {},
   "outputs": [],
   "source": [
    "# Create a list of numbers\n",
    "my_list = [1, 2, 3, 4, 5]\n",
    "\n",
    "# Create an iterator for the list\n",
    "my_iterator = iter(my_list)\n",
    "\n",
    "# Use a for loop to iterate over the list using the iterator\n",
    "for item in my_iterator:\n",
    "    print(item)"
   ]
  },
  {
   "attachments": {},
   "cell_type": "markdown",
   "metadata": {},
   "source": [
    "## Generators \n",
    "\n",
    "When you copy a generator, you essentially create a new reference to the same generator object. This means that any changes made to the generator through one reference will be visible through all other references to the generator.\n",
    "\n",
    "For example, if you create a generator and assign it to two different variables, changes made to the generator through one variable will be visible through the other variable as well.\n",
    "\n",
    "Below there are some important functions used by generators:\n",
    "\n",
    "- `deepcopy`: creates a new object with a new memory address, and recursively copies all the values from the original object to the new object. This means that even if the original object contains other objects or nested data structures, the new object will be a completely independent copy of the original.\n",
    "\n",
    "- `copy`: creates a new object with a new memory address, and copies the values from the original object to the new object. However, if the original object contains other objects or nested data structures, those objects will not be copied but rather their references will be copied to the new object. This means that changes made to those objects in the new object will also affect the original object.\n",
    "\n",
    "- `slicing`: allows you to create a shallow copy of a list, tuple or other sequence object. It creates a new object with a new memory address, and copies the references to the elements from the original object to the new object. Any changes made to the elements of the new object will also affect the elements of the original object, but changes to the object itself will not."
   ]
  },
  {
   "cell_type": "code",
   "execution_count": null,
   "metadata": {},
   "outputs": [],
   "source": [
    "# Generators\n",
    "def countdown(n):\n",
    "    while n > 0:\n",
    "        yield n\n",
    "        n -= 1\n",
    "\n",
    "# Copying procedure\n",
    "g1 = countdown(5)\n",
    "g2 = g1\n",
    "\n",
    "# Method copy\n",
    "g3 = g1.copy()\n",
    "\n",
    "# Slicing\n",
    "g4 = g1[2:]\n",
    "\n",
    "# Deepcopy\n",
    "import copy\n",
    "g5 = copy.deepcopy(g1)"
   ]
  },
  {
   "attachments": {},
   "cell_type": "markdown",
   "metadata": {},
   "source": [
    "# numbers\n",
    "\n",
    "- Numeric operations with mixed types:\n",
    "\n",
    "When two numbers with different types are used in a numeric operation, Python will try to convert one of them to the type of the other before performing the operation.\n",
    "If the operation involves a float and an integer, the integer will be converted to a float before the operation is performed.\n",
    "If the operation involves a complex number and another number, the other number will be converted to a complex number with an imaginary part of 0 before the operation is performed.\n",
    "\n",
    "- `Comparison`: normal and chained:\n",
    "\n",
    "Normal comparison operators are used to compare two values and return a Boolean value indicating whether the comparison is true or false.\n",
    "Chained comparison operators can be used to compare multiple values in a single expression. For example, instead of writing \"x > 1 and x < 10\", you can write \"1 < x < 10\".\n",
    "\n",
    "- `Division`: classic, floor, true:\n",
    "\n",
    "Classic division is performed using the \"/\" operator and returns a float.\n",
    "Floor division is performed using the \"//\" operator and returns the largest integer less than or equal to the result of the division.\n",
    "True division is performed using the \"/\" operator and returns a float, but can be forced to return an integer using the \"//\" operator.\n",
    "Here's a code block with some examples:"
   ]
  },
  {
   "cell_type": "code",
   "execution_count": null,
   "metadata": {},
   "outputs": [],
   "source": [
    "# Numeric operations with mixed types\n",
    "print(3 + 4.0)      # 7.0\n",
    "print(2j * 3)       # 6j\n",
    "print(2 + 3 + 4.0)  # 9.0\n",
    "\n",
    "# Comparison: normal and chained\n",
    "x = 5\n",
    "print(x > 1 and x < 10)   # True\n",
    "print(1 < x < 10)         # True\n",
    "\n",
    "# Division: classic, floor, true\n",
    "print(7 / 3)      # 2.3333333333333335\n",
    "print(7 // 3)     # 2\n",
    "print(7.0 // 3)   # 2.0"
   ]
  },
  {
   "attachments": {},
   "cell_type": "markdown",
   "metadata": {},
   "source": [
    "## Lists\n",
    "\n",
    "Iteration is the process of looping over an object, and comprehensions provide a concise way to create a new list, set, or dictionary based on an existing iterable object. Comprehensions can also include conditions to filter the items that are included in the new iterable."
   ]
  },
  {
   "cell_type": "code",
   "execution_count": null,
   "metadata": {},
   "outputs": [],
   "source": [
    "# Iteration\n",
    "fruits = ['apple', 'banana', 'cherry']\n",
    "for fruit in fruits:\n",
    "    print(fruit)\n",
    "\n",
    "# List comprehension\n",
    "squares = [x**2 for x in range(10)]\n",
    "print(squares)\n",
    "\n",
    "# List comprehension with conditional\n",
    "even_squares = [x**2 for x in range(10) if x % 2 == 0]\n",
    "print(even_squares)"
   ]
  },
  {
   "attachments": {},
   "cell_type": "markdown",
   "metadata": {},
   "source": [
    "## Dictionaries\n",
    "\n",
    "- `Iteration`: In Python, we can iterate through a dictionary's keys, values, or key-value pairs using a for loop or a dictionary method. To iterate through keys, we can simply loop through the dictionary's name. To iterate through values, we can use the values() method. To iterate through key-value pairs, we can use the items() method.\n",
    "\n",
    "- `Comprehensions`: Python dictionaries support dictionary comprehensions, which allow us to create a new dictionary by specifying a dictionary of key-value pairs in a single line of code. We can also use conditional expressions to filter the original dictionary."
   ]
  },
  {
   "cell_type": "code",
   "execution_count": null,
   "metadata": {},
   "outputs": [],
   "source": [
    "# create a dictionary\n",
    "fruits = {'apple': 2, 'banana': 3, 'orange': 4}\n",
    "\n",
    "# iterate through keys\n",
    "for key in fruits:\n",
    "    print(key)\n",
    "\n",
    "# iterate through values\n",
    "for value in fruits.values():\n",
    "    print(value)\n",
    "\n",
    "# iterate through key-value pairs\n",
    "for key, value in fruits.items():\n",
    "    print(key, value)\n",
    "\n",
    "# dictionary comprehension\n",
    "double_fruits = {key: value*2 for key, value in fruits.items()}\n",
    "print(double_fruits)\n",
    "\n",
    "# dictionary comprehension with conditional expression\n",
    "even_fruits = {key: value for key, value in fruits.items() if value % 2 == 0}\n",
    "print(even_fruits)"
   ]
  },
  {
   "attachments": {},
   "cell_type": "markdown",
   "metadata": {},
   "source": [
    "## Tuples\n",
    "\n",
    "`namedtuple` is a function provided by the collections module in Python that creates a new class which is a subclass of a tuple. The class has named fields which make it more readable and easier to understand than using tuples alone.\n",
    "\n",
    "Using a `namedtuple` can make our code more readable and easier to understand, especially when dealing with tuples that have many fields. Instead of accessing elements by their position in the tuple, we can use the named fields to access the values."
   ]
  },
  {
   "cell_type": "code",
   "execution_count": null,
   "metadata": {},
   "outputs": [],
   "source": [
    "from collections import namedtuple\n",
    "\n",
    "# Create a namedtuple class\n",
    "MyTuple = namedtuple('MyTuple', ['field1', 'field2', 'field3'])\n",
    "\n",
    "# Create a new instance of the namedtuple class\n",
    "my_tuple_instance = MyTuple('value1', 'value2', 'value3')"
   ]
  },
  {
   "attachments": {},
   "cell_type": "markdown",
   "metadata": {},
   "source": [
    "## Files\n",
    "\n",
    "Storing objects in files involves serialization, which is the process of converting an object to a format that can be stored and reconstructed later. Two common ways of serializing data in Python are pickling and JSON.\n",
    "\n",
    "- `Pickling` is a way to convert a Python object hierarchy into a byte stream, which can be saved to a file or transmitted over a network. The pickle module provides a way to do this. \n",
    "\n",
    "- `JSON` (JavaScript Object Notation) is a lightweight data interchange format that is easy for humans to read and write, and easy for machines to parse and generate. The json module provides a way to serialize Python objects to JSON format and vice versa. "
   ]
  },
  {
   "cell_type": "code",
   "execution_count": null,
   "metadata": {},
   "outputs": [],
   "source": [
    "## PICKLE\n",
    "import pickle\n",
    "\n",
    "data = {'name': 'John', 'age': 30, 'city': 'New York'}\n",
    "\n",
    "# Store data in a file\n",
    "with open('data.pkl', 'wb') as f:\n",
    "    pickle.dump(data, f)\n",
    "\n",
    "# Load data from file\n",
    "with open('data.pkl', 'rb') as f:\n",
    "    loaded_data = pickle.load(f)\n",
    "\n",
    "print(loaded_data)\n",
    "\n",
    "## JSON\n",
    "import json\n",
    "\n",
    "data = {'name': 'John', 'age': 30, 'city': 'New York'}\n",
    "\n",
    "# Store data in a file\n",
    "with open('data.json', 'w') as f:\n",
    "    json.dump(data, f)\n",
    "\n",
    "# Load data from file\n",
    "with open('data.json', 'r') as f:\n",
    "    loaded_data = json.load(f)\n",
    "\n",
    "print(loaded_data)"
   ]
  },
  {
   "attachments": {},
   "cell_type": "markdown",
   "metadata": {},
   "source": [
    "## SCOPES\n",
    "\n",
    "LEGB is an acronym that stands for Local, Enclosing, Global, and Built-in. It is a set of rules that Python uses to determine the order in which it searches for variables in nested scopes.\n",
    "\n",
    "- `Local`: The local scope refers to the current function or code block where the variable is being defined.\n",
    "- `Enclosing`: The enclosing scope refers to any outer functions or code blocks that contain the current function or code block.\n",
    "- `Global`: The global scope refers to the module-level scope. Variables defined in this scope can be accessed from anywhere in the module.\n",
    "- `Built-in`: The built-in scope refers to the scope of the built-in functions and modules in Python.\n",
    "\n",
    "When a variable is referenced in Python, the interpreter first searches for it in the local scope. If it is not found there, it moves on to the enclosing scope, then the global scope, and finally the built-in scope. If the variable is not found at any of these levels, a NameError is raised."
   ]
  },
  {
   "cell_type": "code",
   "execution_count": null,
   "metadata": {},
   "outputs": [],
   "source": [
    "x = 'global'\n",
    "\n",
    "def outer():\n",
    "    x = 'outer'\n",
    "\n",
    "    def inner():\n",
    "        x = 'inner'\n",
    "        print(x)\n",
    "\n",
    "    inner()\n",
    "    print(x)\n",
    "\n",
    "outer()\n",
    "print(x)"
   ]
  },
  {
   "attachments": {},
   "cell_type": "markdown",
   "metadata": {},
   "source": [
    "## Python Standard Libraries\n",
    "\n",
    "- `argparse`: A module that makes it easy to write user-friendly command-line interfaces.\n",
    "- `optparse`: A deprecated module similar to argparse for parsing command-line arguments.\n",
    "- `enum`: A module for creating enumerated constants, which are a set of symbolic names (members) bound to unique, constant values.\n",
    "- `dataclasses`: A module that provides a decorator and functions for creating classes that are primarily used to store data.\n",
    "- `base64`: A module that provides functions for encoding and decoding binary data in base64 format.\n",
    "- `logging`: A module that provides a flexible framework for emitting log messages from Python programs.\n",
    "- `pathlib`: A module that provides an object-oriented approach to working with filesystem paths.\n",
    "- `shutil`: A module that provides a higher level interface for copying and archiving files and directories.\n",
    "- `uuid`: A module that provides functions for generating and working with UUIDs (Universally Unique Identifiers).\n",
    "- `typing`: A module that provides support for type hints and annotations.\n",
    "- `types`: A module that provides runtime support for dynamic creation of new types, and contains aliases for built-in types.\n",
    "- `collections`: A module that provides alternatives to built-in types, including named tuples, ordered dictionaries, and counters.\n",
    "- `copy`: A module that provides functions for creating shallow and deep copies of Python objects.\n",
    "- `unittest`: A module for unit testing Python code.\n",
    "- `timeit`: A module for measuring the execution time of small code snippets.\n",
    "- `itertools`: A module that provides functions for creating and working with iterators, including infinite iterators and combinatoric generators.\n",
    "- `functools`: A module that provides higher-order functions and other tools that are useful for functional programming in Python."
   ]
  }
 ],
 "metadata": {
  "kernelspec": {
   "display_name": "Python 3",
   "language": "python",
   "name": "python3"
  },
  "language_info": {
   "codemirror_mode": {
    "name": "ipython",
    "version": 3
   },
   "file_extension": ".py",
   "mimetype": "text/x-python",
   "name": "python",
   "nbconvert_exporter": "python",
   "pygments_lexer": "ipython3",
   "version": "3.10.9"
  },
  "orig_nbformat": 4
 },
 "nbformat": 4,
 "nbformat_minor": 2
}
