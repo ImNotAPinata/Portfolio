{
 "cells": [
  {
   "attachments": {},
   "cell_type": "markdown",
   "metadata": {},
   "source": [
    "# PYTHON GUIDE - BASICS\n",
    "\n",
    "## Condition statements\n",
    "\n",
    "** IF ELSE **\n",
    "\n",
    "Are used to control the flow of your program based on certain conditions. \n",
    "The most common condition statements are the if, elif, and else statements."
   ]
  },
  {
   "cell_type": "code",
   "execution_count": null,
   "metadata": {},
   "outputs": [],
   "source": [
    "x = 5\n",
    "\n",
    "if x > 0:\n",
    "    print(\"x is positive\")\n",
    "elif x < 0:\n",
    "    print(\"x is negative\")\n",
    "else:\n",
    "    print(\"x is zero\")"
   ]
  },
  {
   "attachments": {},
   "cell_type": "markdown",
   "metadata": {},
   "source": [
    "The inline if statement, also known as the ternary operator, is a shorthand way of writing an if-else statement in Python."
   ]
  },
  {
   "cell_type": "code",
   "execution_count": null,
   "metadata": {},
   "outputs": [],
   "source": [
    "a = 5\n",
    "b = 10\n",
    "\n",
    "max_num = a if a > b else b\n",
    "\n",
    "print(max_num)  # Output: 10"
   ]
  },
  {
   "attachments": {},
   "cell_type": "markdown",
   "metadata": {},
   "source": [
    "## Loop statements\n",
    "\n",
    "Are used to repeat a block of code multiple times. \n",
    "The two most common loop statements in Python are the for loop and the while loop."
   ]
  },
  {
   "cell_type": "code",
   "execution_count": null,
   "metadata": {},
   "outputs": [],
   "source": [
    "# FOR\n",
    "# Let's define a list of numbers\n",
    "numbers = [1, 2, 3, 4, 5]\n",
    "\n",
    "# Now, let's use a for loop to iterate over each number in the list\n",
    "for num in numbers:\n",
    "    print(num)\n",
    "\n",
    "# WHILE\n",
    "# Let's define a variable called count\n",
    "count = 0\n",
    "\n",
    "# Now, let's use a while loop to repeat a block of code until a condition is no longer true\n",
    "while count < 5:\n",
    "    print(count)\n",
    "    count += 1"
   ]
  },
  {
   "attachments": {},
   "cell_type": "markdown",
   "metadata": {},
   "source": [
    "Control of cycle execution statements \n",
    "\n",
    "Are used to control how the loop executes and to exit the loop prematurely under certain conditions.\n",
    "The control flow statements in python are break, continue, and pass."
   ]
  },
  {
   "cell_type": "code",
   "execution_count": null,
   "metadata": {},
   "outputs": [],
   "source": [
    "# BREAK\n",
    "# Let's define a list of numbers\n",
    "numbers = [1, 2, 3, 4, 5]\n",
    "\n",
    "# Now, let's use a for loop to iterate over each number in the list\n",
    "for num in numbers:\n",
    "    if num == 3:\n",
    "        break\n",
    "    print(num)\n",
    "\n",
    "# CONTINUE\n",
    "# Let's define a list of numbers\n",
    "numbers = [1, 2, 3, 4, 5]\n",
    "\n",
    "# Now, let's use a for loop to iterate over each number in the list\n",
    "for num in numbers:\n",
    "    if num == 3:\n",
    "        continue\n",
    "    print(num)\n",
    "\n",
    "# PASS\n",
    "# Let's define a function that we haven't implemented yet\n",
    "def my_function():\n",
    "    pass"
   ]
  },
  {
   "attachments": {},
   "cell_type": "markdown",
   "metadata": {},
   "source": [
    "How to use else in cycles\n",
    "\n",
    "The else clause in loops has a special meaning. It is executed after the loop completes all its iterations, unless the loop is terminated early by a break statement."
   ]
  },
  {
   "cell_type": "code",
   "execution_count": null,
   "metadata": {},
   "outputs": [],
   "source": [
    "fruits = [\"apple\", \"banana\", \"cherry\"]\n",
    "for fruit in fruits:\n",
    "    if fruit == \"orange\":\n",
    "        print(\"Found an orange!\")\n",
    "        break\n",
    "else:\n",
    "    print(\"No oranges found.\")"
   ]
  },
  {
   "attachments": {},
   "cell_type": "markdown",
   "metadata": {},
   "source": [
    "## Iterators\n",
    "\n",
    "An iterator is an object in Python that allows us to traverse a collection of elements one by one. It provides a way to access the elements of an object sequentially without needing to know the internal structure of the object. In Python, an iterator is an object that implements the iterator protocol, which consists of two methods: __iter__() and __next__().\n",
    "\n",
    "Iterables are objects that can return an iterator when the `iter()` function is called on them. Built-in iterables can be iterated using loops, such as for loops, which are able to handle the details of creating and managing the iterator. You can also perform manual iteration by calling the `iter()` function on an iterable object, and then calling the `next()` function on the returned iterator object to get the next value.\n",
    "\n",
    "The `range()` function returns an iterable object of numbers from a specified start value (inclusive) to a specified end value (exclusive) with a specified step."
   ]
  },
  {
   "cell_type": "code",
   "execution_count": null,
   "metadata": {},
   "outputs": [],
   "source": [
    "# Create a list of numbers\n",
    "my_list = [1, 2, 3, 4, 5]\n",
    "\n",
    "# Create an iterator for the list\n",
    "my_iterator = iter(my_list)\n",
    "\n",
    "# Use a for loop to iterate over the list using the iterator\n",
    "for item in my_iterator:\n",
    "    print(item)\n",
    "\n",
    "# Manual iteration using iter() and next()\n",
    "fruits = ['apple', 'banana', 'cherry']\n",
    "iter_fruits = iter(fruits)\n",
    "\n",
    "print(next(iter_fruits))\n",
    "print(next(iter_fruits))\n",
    "print(next(iter_fruits))\n",
    "\n",
    "# Iteration protocol\n",
    "class MyIterator:\n",
    "    def __init__(self, start, end):\n",
    "        self.current = start\n",
    "        self.end = end\n",
    "        \n",
    "    def __iter__(self):\n",
    "        return self\n",
    "    \n",
    "    def __next__(self):\n",
    "        if self.current >= self.end:\n",
    "            raise StopIteration\n",
    "        result = self.current\n",
    "        self.current += 1\n",
    "        return result\n",
    "    \n",
    "my_iterator = MyIterator(0, 3)\n",
    "for num in my_iterator:\n",
    "    print(num)\n",
    "\n",
    "# Iterable\n",
    "class MyIterable:\n",
    "    def __init__(self, start, end):\n",
    "        self.start = start\n",
    "        self.end = end\n",
    "        \n",
    "    def __iter__(self):\n",
    "        return MyIterator(self.start, self.end)\n",
    "    \n",
    "my_iterable = MyIterable(0, 3)\n",
    "for num in my_iterable:\n",
    "    print(num)\n",
    "\n",
    "# Range iterable\n",
    "for num in range(0, 3):\n",
    "    print(num)"
   ]
  },
  {
   "attachments": {},
   "cell_type": "markdown",
   "metadata": {},
   "source": [
    "## Generators \n",
    "\n",
    "Python generators are a type of iterator that can be created using the yield keyword. When a generator function is called, it doesn't actually run the function but returns an iterator object. The generator function is only run when the next value in the sequence is requested using the next() function.\n",
    "\n",
    "Generator comprehensions and generator expressions are similar to list comprehensions and list expressions, but they create a generator object instead of a list. This means that the values are generated on-the-fly as they are requested, rather than being generated all at once and stored in memory.\n",
    "\n",
    "When you copy a generator, you essentially create a new reference to the same generator object. This means that any changes made to the generator through one reference will be visible through all other references to the generator.\n",
    "\n",
    "For example, if you create a generator and assign it to two different variables, changes made to the generator through one variable will be visible through the other variable as well.\n",
    "\n",
    "Below there are some important functions used by generators:\n",
    "\n",
    "- `deepcopy`: creates a new object with a new memory address, and recursively copies all the values from the original object to the new object. This means that even if the original object contains other objects or nested data structures, the new object will be a completely independent copy of the original.\n",
    "\n",
    "- `copy`: creates a new object with a new memory address, and copies the values from the original object to the new object. However, if the original object contains other objects or nested data structures, those objects will not be copied but rather their references will be copied to the new object. This means that changes made to those objects in the new object will also affect the original object.\n",
    "\n",
    "- `slicing`: allows you to create a shallow copy of a list, tuple or other sequence object. It creates a new object with a new memory address, and copies the references to the elements from the original object to the new object. Any changes made to the elements of the new object will also affect the elements of the original object, but changes to the object itself will not."
   ]
  },
  {
   "cell_type": "code",
   "execution_count": null,
   "metadata": {},
   "outputs": [],
   "source": [
    "# Generators\n",
    "def countdown(n):\n",
    "    while n > 0:\n",
    "        yield n\n",
    "        n -= 1\n",
    "\n",
    "# Copying procedure\n",
    "g1 = countdown(5)\n",
    "g2 = g1\n",
    "\n",
    "# Method copy\n",
    "g3 = g1.copy()\n",
    "\n",
    "# Slicing\n",
    "g4 = g1[2:]\n",
    "\n",
    "# Deepcopy\n",
    "import copy\n",
    "g5 = copy.deepcopy(g1)\n",
    "\n",
    "# Example of a generator function\n",
    "def countdown(n):\n",
    "    while n > 0:\n",
    "        yield n\n",
    "        n -= 1\n",
    "\n",
    "# Example of using a generator expression\n",
    "gen_exp = (x**2 for x in range(10))\n",
    "\n",
    "# Example of using a generator comprehension\n",
    "gen_comp = (x for x in range(10) if x % 2 == 0)"
   ]
  },
  {
   "attachments": {},
   "cell_type": "markdown",
   "metadata": {},
   "source": [
    "## Dynamic Typing\n",
    "\n",
    "It means that you don't have to specify the data type of a variable before using it in Python. Instead, Python will automatically figure out the data type based on the value assigned to it at runtime. This makes Python code more flexible and easier to write, but it can also lead to errors if you accidentally assign a value of the wrong data type to a variable.\n",
    "\n",
    "Type hinting is a feature introduced in Python 3.5 that allows developers to annotate the types of function arguments and return values. This allows for better code readability and enables static type checkers to catch type errors at compile time rather than runtime. Type hinting is optional in Python and does not affect the dynamic typing behavior of the language."
   ]
  },
  {
   "cell_type": "code",
   "execution_count": null,
   "metadata": {},
   "outputs": [],
   "source": [
    "# Assign an integer to a variable\n",
    "x = 5\n",
    "\n",
    "# Assign a string to the same variable\n",
    "x = \"Hello, world!\"\n",
    "\n",
    "# Assign a list to the same variable\n",
    "x = [1, 2, 3]\n",
    "\n",
    "# dynamic typing\n",
    "x = 5\n",
    "print(type(x))  # <class 'int'>\n",
    "\n",
    "x = \"hello\"\n",
    "print(type(x))  # <class 'str'>\n",
    "\n",
    "# strong typing\n",
    "x = 5\n",
    "y = \"hello\"\n",
    "z = x + y  # TypeError: unsupported operand type(s) for +: 'int' and 'str'\n",
    "\n",
    "# weak typing\n",
    "x = 5\n",
    "y = 2.5\n",
    "z = x + y  # no error, z is 7.5\n",
    "\n",
    "# type hinting\n",
    "def greeting(name: str) -> str:\n",
    "    return f\"Hello, {name}!\"\n",
    "\n",
    "print(greeting(\"Chief\"))  # Hello, Chief!\n",
    "print(greeting(123))  # TypeError: 'int' object is not callable"
   ]
  },
  {
   "attachments": {},
   "cell_type": "markdown",
   "metadata": {},
   "source": [
    "**mutable and immutable**\n",
    "\n",
    "Immutable objects can't be changed after they're created. Examples include numbers and strings. Once you create them, you can't modify their values.\n",
    "\n",
    "Mutable objects, on the other hand, can be changed after they're created. Examples include lists and dictionaries. You can modify their values directly.\n",
    "\n",
    "So, the main difference between them is that mutable objects can be changed, while immutable objects can't be changed."
   ]
  },
  {
   "cell_type": "code",
   "execution_count": null,
   "metadata": {},
   "outputs": [],
   "source": [
    "# Create an integer and a list\n",
    "a = 1\n",
    "b = [1, 2, 3]\n",
    "\n",
    "# Try to modify the integer and the list\n",
    "a = 2\n",
    "b[0] = 4\n",
    "\n",
    "# Print the values of a and b\n",
    "print(a)  # Output: 2\n",
    "print(b)  # Output: [4, 2, 3]"
   ]
  },
  {
   "attachments": {},
   "cell_type": "markdown",
   "metadata": {},
   "source": [
    "## Shared references\n",
    "\n",
    "Variables contain references to objects, not the actual values. When you assign a variable to an object, you're creating a reference to that object.\n",
    "\n",
    "This can sometimes lead to unexpected behavior when you're working with mutable objects like lists. When you assign one variable to another that references the same object, any changes you make to the object through one variable will also be reflected in the other variable.\n",
    "\n",
    "To avoid this, you can create a copy of the object and assign it to a new variable, so that the two variables reference separate objects.\n",
    "It's important to note that == and is have different meanings in Python. == checks for equality of values, while is checks for identity of objects."
   ]
  },
  {
   "cell_type": "code",
   "execution_count": null,
   "metadata": {},
   "outputs": [],
   "source": [
    "a = [1, 2, 3]\n",
    "b = [1, 2, 3]\n",
    "print(a == b)  # Output: True\n",
    "print(a is b)  # Output: False"
   ]
  },
  {
   "attachments": {},
   "cell_type": "markdown",
   "metadata": {},
   "source": [
    "In-place changes are modifications made to an object's contents that do not create a new object."
   ]
  },
  {
   "cell_type": "code",
   "execution_count": null,
   "metadata": {},
   "outputs": [],
   "source": [
    "# Create a string and assign it to variable s\n",
    "s = \"hello\"\n",
    "\n",
    "# Assign a new value to an index in the string in-place\n",
    "s = s[:3] + 'p' + s[4:]\n",
    "\n",
    "# Print the string\n",
    "print(s)  # Output: \"helpo\""
   ]
  },
  {
   "attachments": {},
   "cell_type": "markdown",
   "metadata": {},
   "source": [
    "**Weak Reference**\n",
    "\n",
    "In Python, a weak reference is a reference to an object that does not increase its reference count. A weak reference is useful when you want to keep track of an object, but you don’t want to prevent it from being garbage collected."
   ]
  },
  {
   "cell_type": "code",
   "execution_count": null,
   "metadata": {},
   "outputs": [],
   "source": [
    "import weakref\n",
    "\n",
    "class MyClass:\n",
    "    def __init__(self, name):\n",
    "        self.name = name\n",
    "    \n",
    "    def __repr__(self):\n",
    "        return f\"MyClass({self.name})\"\n",
    "    \n",
    "obj = MyClass(\"example\")\n",
    "weak_ref = weakref.ref(obj)\n",
    "\n",
    "print(f\"Object: {obj}\")\n",
    "print(f\"Weak Reference: {weak_ref()}\")\n",
    "\n",
    "del obj\n",
    "print(f\"Weak Reference after deleting the original object: {weak_ref()}\")"
   ]
  },
  {
   "attachments": {},
   "cell_type": "markdown",
   "metadata": {},
   "source": [
    "**Raw String**\n",
    "\n",
    "In Python, a raw string is a string that is written exactly as-is, with no special meaning given to backslashes. Normally, backslashes are used as escape characters to represent certain special characters within a string, such as a newline or a tab. However, if you prefix a string with the letter 'r', it becomes a raw string, and backslashes are treated as regular characters."
   ]
  },
  {
   "cell_type": "code",
   "execution_count": null,
   "metadata": {},
   "outputs": [],
   "source": [
    "# A regular string\n",
    "str1 = \"Hello\\nworld!\"\n",
    "print(str1) # Output: Hello\n",
    "            #         world!\n",
    "\n",
    "# A raw string\n",
    "str2 = r\"Hello\\nworld!\"\n",
    "print(str2) # Output: Hello\\nworld!"
   ]
  },
  {
   "attachments": {},
   "cell_type": "markdown",
   "metadata": {},
   "source": [
    "**Unicode and ASCII strings**\n",
    "\n",
    "ASCII strings are a subset of Unicode strings that use only the first 128 code points (i.e., characters) of the Unicode character set. ASCII strings are typically used to represent text that is primarily in the English language, since all of the characters used in English fall within the ASCII range.\n",
    "\n",
    "Unicode strings, on the other hand, can represent any character in the Unicode character set, which includes characters from many different languages and scripts. Unicode strings are often used to represent text that includes characters outside of the ASCII range.\n",
    "\n",
    "It's important to note that in Python 3.x, all strings are Unicode strings by default. This means that if you don't specify a string as ASCII or Unicode, it will be treated as a Unicode string.\n",
    "\n",
    "In Python 2.x, however, strings are ASCII by default, and you need to use the u prefix to indicate a Unicode string."
   ]
  },
  {
   "cell_type": "code",
   "execution_count": null,
   "metadata": {},
   "outputs": [],
   "source": [
    "ascii_str = \"Hello, world!\"\n",
    "print(ascii_str) # Output: Hello, world!\n",
    "\n",
    "unicode_str = \"こんにちは世界\"\n",
    "print(unicode_str) # Output: こんにちは世界"
   ]
  },
  {
   "attachments": {},
   "cell_type": "markdown",
   "metadata": {},
   "source": [
    "## Numbers\n",
    "\n",
    "Are a data type that represents numerical values. There are three basic types of numbers in Python: integers, floating-point numbers, and complex numbers.\n",
    "\n",
    "- Integers: Integers are whole numbers, such as -2, -1, 0, 1, 2, etc. In Python, integers have unlimited precision, which means that they can be arbitrarily large or small.\n",
    "\n",
    "- Floating-point numbers: Floating-point numbers are decimal numbers, such as 1.0, -3.14, 2.71828, etc. In Python, floating-point numbers are represented using the \"float\" type, which is implemented using the IEEE 754 standard.\n",
    "\n",
    "- Complex numbers: Complex numbers are numbers that have a real part and an imaginary part, such as 1+2j, -3-4j, etc. In Python, complex numbers are represented using the \"complex\" type.\n",
    "\n",
    "In addition to the basic types of numbers, Python also provides support for representing numbers in different bases, including decimal, hexadecimal, octal, and binary.\n",
    "\n",
    "- Decimal: Decimal numbers are represented using the standard base-10 system, which is the most common number system used in everyday life.\n",
    "\n",
    "- Hexadecimal: Hexadecimal numbers are represented using the base-16 system, which uses the digits 0-9 and the letters A-F to represent numbers from 0-15. Hexadecimal numbers are often used to represent colors and memory addresses.\n",
    "\n",
    "- Octal: Octal numbers are represented using the base-8 system, which uses the digits 0-7 to represent numbers from 0-7.\n",
    "\n",
    "- Binary: Binary numbers are represented using the base-2 system, which uses only the digits 0 and 1 to represent numbers.\n",
    "\n",
    "Python provides a variety of basic operations that you can perform on numbers, including addition (+), subtraction (-), multiplication (*), division (/), floor division (//), modulo (%), and exponentiation (**). You can also use parentheses to group operations and change the order of evaluation."
   ]
  },
  {
   "cell_type": "code",
   "execution_count": null,
   "metadata": {},
   "outputs": [],
   "source": [
    "# Integer arithmetic\n",
    "x = 5\n",
    "y = 2\n",
    "\n",
    "print(x + y)    # Output: 7\n",
    "print(x - y)    # Output: 3\n",
    "print(x * y)    # Output: 10\n",
    "print(x / y)    # Output: 2.5\n",
    "print(x // y)   # Output: 2 (floor division)\n",
    "print(x % y)    # Output: 1 (modulo)\n",
    "print(x ** y)   # Output: 25 (exponentiation)\n",
    "\n",
    "# Floating-point arithmetic\n",
    "a = 3.14\n",
    "b = 2.0\n",
    "\n",
    "print(a + b)    # Output: 5.14\n",
    "print(a - b)    # Output: 1.14\n",
    "print(a * b)    # Output: 6.28\n",
    "print(a / b)    # Output: 1.57\n",
    "print(a // b)   # Output: 1 (floor division)\n",
    "print(a % b)    # Output: 1.14 (modulo)\n",
    "print(a ** b)   # Output: 9.8596 (exponentiation)\n",
    "\n",
    "# Using parentheses to change order of evaluation\n",
    "c = 4\n",
    "d = 5\n",
    "\n",
    "print(c * d + 3)    # Output: 23\n",
    "print(c * (d + 3))  # Output: 32\n",
    "\n",
    "# Using binary, octal, and hexadecimal notation\n",
    "print(0b1010)   # Output: 10 (binary)\n",
    "print(0o12)     # Output: 10 (octal)\n",
    "print(0xA)      # Output: 10 (hexadecimal)"
   ]
  },
  {
   "attachments": {},
   "cell_type": "markdown",
   "metadata": {},
   "source": [
    "Numeric operations with mixed types:\n",
    "\n",
    "When two numbers with different types are used in a numeric operation, Python will try to convert one of them to the type of the other before performing the operation.\n",
    "If the operation involves a float and an integer, the integer will be converted to a float before the operation is performed.\n",
    "If the operation involves a complex number and another number, the other number will be converted to a complex number with an imaginary part of 0 before the operation is performed.\n",
    "\n",
    "- `Comparison`: normal and chained:\n",
    "\n",
    "Normal comparison operators are used to compare two values and return a Boolean value indicating whether the comparison is true or false.\n",
    "Chained comparison operators can be used to compare multiple values in a single expression. For example, instead of writing \"x > 1 and x < 10\", you can write \"1 < x < 10\".\n",
    "\n",
    "- `Division`: classic, floor, true:\n",
    "\n",
    "Classic division is performed using the \"/\" operator and returns a float.\n",
    "Floor division is performed using the \"//\" operator and returns the largest integer less than or equal to the result of the division.\n",
    "True division is performed using the \"/\" operator and returns a float, but can be forced to return an integer using the \"//\" operator.\n",
    "Here's a code block with some examples:"
   ]
  },
  {
   "cell_type": "code",
   "execution_count": null,
   "metadata": {},
   "outputs": [],
   "source": [
    "# Numeric operations with mixed types\n",
    "print(3 + 4.0)      # 7.0\n",
    "print(2j * 3)       # 6j\n",
    "print(2 + 3 + 4.0)  # 9.0\n",
    "\n",
    "# Comparison: normal and chained\n",
    "x = 5\n",
    "print(x > 1 and x < 10)   # True\n",
    "print(1 < x < 10)         # True\n",
    "\n",
    "# Division: classic, floor, true\n",
    "print(7 / 3)      # 2.3333333333333335\n",
    "print(7 // 3)     # 2\n",
    "print(7.0 // 3)   # 2.0"
   ]
  },
  {
   "attachments": {},
   "cell_type": "markdown",
   "metadata": {},
   "source": [
    "## Strings\n",
    "\n",
    "A string is a sequence of characters. In Python, strings are enclosed in single quotes ('...') or double quotes (\"...\"). Multi-line strings can be created by enclosing the text in triple quotes (either '''...''' or \"\"\"...\"\"\").\n",
    "\n",
    "- Special characters: Some characters have special meanings in strings, such as the backslash (), which is used to escape special characters or create newlines, and the single quote ('), which can be escaped with a backslash if the string is enclosed in single quotes.\n",
    "\n",
    "- Basic operations: Strings support several basic operations, such as concatenation (+), repetition (*), and comparison (==, !=, <, >, <=, >=).\n",
    "\n",
    "- Methods: Strings have many built-in methods, such as upper() (converts string to uppercase), lower() (converts string to lowercase), strip() (removes whitespace from both ends of a string), split() (splits a string into a list of substrings), and join() (joins a list of strings into a single string).\n",
    "\n",
    "- Indexing and slicing: Strings can be indexed (accessing a single character by its position in the string) and sliced (accessing a substring by specifying a start and end position). Indexing starts at 0, and negative indexes count from the end of the string.\n",
    "\n",
    "- Formatting: Strings can be formatted using the format() method, which allows variables to be substituted into a string. This can be done using positional arguments or named arguments."
   ]
  },
  {
   "cell_type": "code",
   "execution_count": null,
   "metadata": {},
   "outputs": [],
   "source": [
    "# Defining strings\n",
    "s1 = 'Hello'\n",
    "s2 = \"world\"\n",
    "s3 = '''This is a \n",
    "multi-line string'''\n",
    "\n",
    "# Special characters\n",
    "s4 = \"This string contains a quote: '\"\n",
    "\n",
    "# Basic operations\n",
    "s5 = s1 + ' ' + s2    # Concatenation\n",
    "s6 = s1 * 3           # Repetition\n",
    "s7 = (s1 == s2)       # Comparison\n",
    "\n",
    "# Methods\n",
    "s8 = s1.upper()       # Convert to uppercase\n",
    "s9 = s2.lower()       # Convert to lowercase\n",
    "s10 = s3.strip()      # Remove whitespace\n",
    "s11 = s1.split('l')   # Split into substrings\n",
    "s12 = ''.join([s1, s2])  # Join list of strings\n",
    "\n",
    "# Indexing and slicing\n",
    "s13 = s1[0]           # Access first character\n",
    "s14 = s1[-1]          # Access last character\n",
    "s15 = s1[1:3]         # Access substring\n",
    "\n",
    "# Formatting\n",
    "s16 = 'My name is {} and I am {} years old'.format('Alice', 30)\n",
    "s17 = 'The {animal} jumped over the {object}'.format(animal='fox', object='dog')\n",
    "\n",
    "print(s5)\n",
    "print(s6)\n",
    "print(s7)\n",
    "print(s8)\n",
    "print(s9)\n",
    "print(s10)\n",
    "print(s11)\n",
    "print(s12)\n",
    "print(s13)\n",
    "print(s14)\n",
    "print(s15)\n",
    "print(s16)\n",
    "print(s17)"
   ]
  },
  {
   "attachments": {},
   "cell_type": "markdown",
   "metadata": {},
   "source": [
    "## Lists \n",
    "\n",
    "A list is a collection of items in a specific order, and it's defined by square brackets. It's a mutable data type, which means you can add, remove, or modify its elements after you create it.\n",
    "\n",
    "Some basic operations you can do with lists include appending or inserting new items, removing items, sorting, and reversing the order.\n",
    "\n",
    "Indexing and slicing are ways to access specific items in a list. Indexing uses square brackets and starts at 0 for the first item. Slicing allows you to access a subset of items in a list.\n",
    "\n",
    "A tuple is similar to a list, but it's immutable, which means you can't modify its elements once you create it."
   ]
  },
  {
   "cell_type": "code",
   "execution_count": null,
   "metadata": {},
   "outputs": [],
   "source": [
    "# Creating a list\n",
    "my_list = [1, 2, 3, 'four', 'five']\n",
    "\n",
    "# Accessing elements\n",
    "print(my_list[0])  # Output: 1\n",
    "print(my_list[3])  # Output: 'four'\n",
    "\n",
    "# Modifying elements\n",
    "my_list[2] = 'three'\n",
    "print(my_list)  # Output: [1, 2, 'three', 'four', 'five']\n",
    "\n",
    "# Concatenating lists\n",
    "new_list = [6, 7, 8]\n",
    "combined_list = my_list + new_list\n",
    "print(combined_list)  # Output: [1, 2, 'three', 'four', 'five', 6, 7, 8]\n",
    "\n",
    "# Replicating lists\n",
    "repeated_list = my_list * 3\n",
    "print(repeated_list)  # Output: [1, 2, 'three', 'four', 'five', 1, 2, 'three', 'four', 'five', 1, 2, 'three', 'four', 'five']\n",
    "\n",
    "# Checking membership\n",
    "print('four' in my_list)  # Output: True\n",
    "print('six' in my_list)  # Output: False\n",
    "\n",
    "# Sorting a List\n",
    "numbers = [3, 1, 4, 2, 5]\n",
    "numbers.sort()\n",
    "print(numbers)  # Output: [1, 2, 3, 4, 5]\n",
    "\n",
    "# Indexing and slicing a list\n",
    "fruits = ['apple', 'banana', 'orange', 'kiwi']\n",
    "print(fruits[1])  # Output: 'banana'\n",
    "print(fruits[1:3])  # Output: ['banana', 'orange']\n",
    "\n",
    "# Creating a Tuple\n",
    "coordinates = (3, 4)"
   ]
  },
  {
   "attachments": {},
   "cell_type": "markdown",
   "metadata": {},
   "source": [
    "Iteration and comprehensions\n",
    "\n",
    "Iteration is the process of looping over an object, and comprehensions provide a concise way to create a new list, set, or dictionary based on an existing iterable object. Comprehensions can also include conditions to filter the items that are included in the new iterable."
   ]
  },
  {
   "cell_type": "code",
   "execution_count": null,
   "metadata": {},
   "outputs": [],
   "source": [
    "# Iteration\n",
    "fruits = ['apple', 'banana', 'cherry']\n",
    "for fruit in fruits:\n",
    "    print(fruit)\n",
    "\n",
    "# List comprehension\n",
    "squares = [x**2 for x in range(10)]\n",
    "print(squares)\n",
    "\n",
    "# List comprehension with conditional\n",
    "even_squares = [x**2 for x in range(10) if x % 2 == 0]\n",
    "print(even_squares)"
   ]
  },
  {
   "attachments": {},
   "cell_type": "markdown",
   "metadata": {},
   "source": [
    "## Dictionaries\n",
    "\n",
    "A Dictionary is a collection of key-value pairs, where each key is unique and maps to a value. It's defined by curly braces, and each key-value pair is separated by a colon.\n",
    "\n",
    "Some properties of dictionaries include:\n",
    "\n",
    "- They are unordered, meaning that the order of items is not guaranteed.\n",
    "- They are mutable, meaning you can add, remove, or modify items after you create the dictionary.\n",
    "- Keys must be immutable types, such as strings or numbers, while values can be of any type."
   ]
  },
  {
   "cell_type": "code",
   "execution_count": null,
   "metadata": {},
   "outputs": [],
   "source": [
    "# Creating a dictionary\n",
    "person = {'name': 'Alice', 'age': 30, 'city': 'New York'}\n",
    "\n",
    "# Accessing a value\n",
    "print(person['name'])  # Output: 'Alice'\n",
    "\n",
    "# Adding a new key-value pair\n",
    "person['occupation'] = 'teacher'\n",
    "print(person)  # Output: {'name': 'Alice', 'age': 30, 'city': 'New York', 'occupation': 'teacher'}\n",
    "\n",
    "# Removing a key-value pair\n",
    "del person['age']\n",
    "print(person)  # Output: {'name': 'Alice', 'city': 'New York', 'occupation': 'teacher'}\n",
    "\n",
    "# Checking if a key exists\n",
    "if 'age' in person:\n",
    "    print(person['age'])\n",
    "else:\n",
    "    print('Age is not in the dictionary')\n",
    "\n",
    "# Iterating over a dictionary\n",
    "for key, value in person.items():\n",
    "    print(key, value)"
   ]
  },
  {
   "attachments": {},
   "cell_type": "markdown",
   "metadata": {},
   "source": [
    "- `Iteration`: In Python, we can iterate through a dictionary's keys, values, or key-value pairs using a for loop or a dictionary method. To iterate through keys, we can simply loop through the dictionary's name. To iterate through values, we can use the values() method. To iterate through key-value pairs, we can use the items() method.\n",
    "\n",
    "- `Comprehensions`: Python dictionaries support dictionary comprehensions, which allow us to create a new dictionary by specifying a dictionary of key-value pairs in a single line of code. We can also use conditional expressions to filter the original dictionary."
   ]
  },
  {
   "cell_type": "code",
   "execution_count": null,
   "metadata": {},
   "outputs": [],
   "source": [
    "# create a dictionary\n",
    "fruits = {'apple': 2, 'banana': 3, 'orange': 4}\n",
    "\n",
    "# iterate through keys\n",
    "for key in fruits:\n",
    "    print(key)\n",
    "\n",
    "# iterate through values\n",
    "for value in fruits.values():\n",
    "    print(value)\n",
    "\n",
    "# iterate through key-value pairs\n",
    "for key, value in fruits.items():\n",
    "    print(key, value)\n",
    "\n",
    "# dictionary comprehension\n",
    "double_fruits = {key: value*2 for key, value in fruits.items()}\n",
    "print(double_fruits)\n",
    "\n",
    "# dictionary comprehension with conditional expression\n",
    "even_fruits = {key: value for key, value in fruits.items() if value % 2 == 0}\n",
    "print(even_fruits)"
   ]
  },
  {
   "attachments": {},
   "cell_type": "markdown",
   "metadata": {},
   "source": [
    "**ordereddict, defaultdict**\n",
    "\n",
    "OrderedDict is a subclass of the standard dict type that maintains the order in which items were inserted into the dictionary. This can be useful if you need to iterate over the items in a dictionary in a specific order. \n",
    "\n",
    "defaultdict is another subclass of dict that provides a default value for keys that do not exist in the dictionary. This can be useful if you want to avoid key errors when accessing items in the dictionary."
   ]
  },
  {
   "cell_type": "code",
   "execution_count": null,
   "metadata": {},
   "outputs": [],
   "source": [
    "from collections import OrderedDict, defaultdict\n",
    "\n",
    "# ordereddict\n",
    "my_dict = OrderedDict()\n",
    "my_dict['apple'] = 3\n",
    "my_dict['banana'] = 2\n",
    "my_dict['orange'] = 1\n",
    "\n",
    "print(my_dict) # Output: OrderedDict([('apple', 3), ('banana', 2), ('orange', 1)])\n",
    "\n",
    "# defaultdict\n",
    "my_dict = defaultdict(int)\n",
    "my_dict['apple'] = 3\n",
    "my_dict['banana'] = 2\n",
    "\n",
    "print(my_dict['orange']) # Output: 0\n"
   ]
  },
  {
   "attachments": {},
   "cell_type": "markdown",
   "metadata": {},
   "source": [
    "## Tuples\n",
    "\n",
    "- A tuple is an ordered collection of elements, similar to a list.\n",
    "- Tuples are immutable, meaning once a tuple is created, its contents cannot be changed.\n",
    "- Tuples are created using parentheses ( ) and commas to separate elements.\n",
    "\n",
    "In general, tuples are used to group related pieces of information together, especially when the order of the information matters. Tuples are often used in situations where immutability is important, such as when storing fixed data like days of the week or coordinates.\n",
    "\n",
    "Compared to lists, tuples have the advantage of being immutable, which makes them more efficient and secure for storing data that should not be changed. However, lists are more versatile and flexible, since they can be modified and can contain elements of different types."
   ]
  },
  {
   "cell_type": "code",
   "execution_count": null,
   "metadata": {},
   "outputs": [],
   "source": [
    "# Creating a tuple\n",
    "my_tuple = (1, 2, 3, 'four', 5.0)\n",
    "\n",
    "# Accessing values in a tuple\n",
    "print(my_tuple[0])   # Output: 1\n",
    "print(my_tuple[3])   # Output: 'four'\n",
    "\n",
    "# Attempting to change a value in a tuple (this will result in a TypeError)\n",
    "my_tuple[1] = 10\n",
    "\n",
    "# Converting a list to a tuple\n",
    "my_list = [1, 2, 3]\n",
    "my_tuple = tuple(my_list)\n",
    "print(my_tuple)  # Output: (1, 2, 3)"
   ]
  },
  {
   "attachments": {},
   "cell_type": "markdown",
   "metadata": {},
   "source": [
    "`namedtuple` is a function provided by the collections module in Python that creates a new class which is a subclass of a tuple. The class has named fields which make it more readable and easier to understand than using tuples alone.\n",
    "\n",
    "Using a `namedtuple` can make our code more readable and easier to understand, especially when dealing with tuples that have many fields. Instead of accessing elements by their position in the tuple, we can use the named fields to access the values."
   ]
  },
  {
   "cell_type": "code",
   "execution_count": null,
   "metadata": {},
   "outputs": [],
   "source": [
    "from collections import namedtuple\n",
    "\n",
    "# Create a namedtuple class\n",
    "MyTuple = namedtuple('MyTuple', ['field1', 'field2', 'field3'])\n",
    "\n",
    "# Create a new instance of the namedtuple class\n",
    "my_tuple_instance = MyTuple('value1', 'value2', 'value3')"
   ]
  },
  {
   "attachments": {},
   "cell_type": "markdown",
   "metadata": {},
   "source": [
    "## Set\n",
    "\n",
    "- A set is an unordered collection of unique elements.\n",
    "- Sets are created using curly braces {} or the set() constructor.\n",
    "- Duplicate elements are automatically removed from sets.\n",
    "\n",
    "In general, sets are used to perform operations that involve comparing and combining collections of elements. Sets are often used in situations where uniqueness and order do not matter, and where the focus is on the relationships between the elements rather than on the specific values of the elements.\n",
    "\n",
    "Some basic methods and operations that can be performed on sets include adding and removing elements, combining sets, finding the intersection of sets, and testing for membership."
   ]
  },
  {
   "cell_type": "code",
   "execution_count": null,
   "metadata": {},
   "outputs": [],
   "source": [
    "# Creating a set\n",
    "my_set = {1, 2, 3, 4, 4, 4, 5}\n",
    "\n",
    "# Accessing values in a set\n",
    "print(my_set)   # Output: {1, 2, 3, 4, 5}\n",
    "\n",
    "# Adding elements to a set\n",
    "my_set.add(6)\n",
    "print(my_set)   # Output: {1, 2, 3, 4, 5, 6}\n",
    "\n",
    "# Removing elements from a set\n",
    "my_set.remove(2)\n",
    "print(my_set)   # Output: {1, 3, 4, 5, 6}\n",
    "\n",
    "# Combining sets\n",
    "set1 = {1, 2, 3}\n",
    "set2 = {3, 4, 5}\n",
    "set3 = set1.union(set2)\n",
    "print(set3)   # Output: {1, 2, 3, 4, 5}\n",
    "\n",
    "# Finding the intersection of sets\n",
    "set4 = set1.intersection(set2)\n",
    "print(set4)   # Output: {3}"
   ]
  },
  {
   "attachments": {},
   "cell_type": "markdown",
   "metadata": {},
   "source": [
    "**Frozenset**\n",
    "\n",
    "In Python, a frozenset is an immutable version of a set. Like a set, a frozenset is an unordered collection of unique elements. However, unlike a set, a frozenset cannot be modified once it is created. This can be useful when you need to create a set of elements that should not be modified during the course of your program."
   ]
  },
  {
   "cell_type": "code",
   "execution_count": null,
   "metadata": {},
   "outputs": [],
   "source": [
    "# Create a frozenset\n",
    "my_frozenset = frozenset([1, 2, 3, 4])\n",
    "\n",
    "# Try to modify the frozenset (this will raise a TypeError)\n",
    "my_frozenset.add(5)\n",
    "\n",
    "# Use the frozenset in a program\n",
    "for element in my_frozenset:\n",
    "    print(element)"
   ]
  },
  {
   "attachments": {},
   "cell_type": "markdown",
   "metadata": {},
   "source": [
    "## Files\n",
    "\n",
    "Files in Python are used to store data permanently. They can be used to read data from a file or write data to a file. To open a file, we can use the open() function which takes two arguments - the file name and the mode in which we want to open the file. The most common modes are 'r' for reading and 'w' for writing."
   ]
  },
  {
   "cell_type": "code",
   "execution_count": null,
   "metadata": {},
   "outputs": [],
   "source": [
    "# Open file in write mode\n",
    "file = open('example.txt', 'w')\n",
    "\n",
    "# Write some data to the file\n",
    "file.write('Hello, World!')\n",
    "\n",
    "# Close the file\n",
    "file.close()\n",
    "\n",
    "# Open file in read mode\n",
    "file = open('example.txt', 'r')\n",
    "\n",
    "# Read the data from the file\n",
    "data = file.read()\n",
    "\n",
    "# Close the file\n",
    "file.close()\n",
    "\n",
    "# Print the data\n",
    "print(data)"
   ]
  },
  {
   "attachments": {},
   "cell_type": "markdown",
   "metadata": {},
   "source": [
    "**Storying objects in files**\n",
    "\n",
    "Storing objects in files involves serialization, which is the process of converting an object to a format that can be stored and reconstructed later. Two common ways of serializing data in Python are pickling and JSON.\n",
    "\n",
    "- `Pickling` is a way to convert a Python object hierarchy into a byte stream, which can be saved to a file or transmitted over a network. The pickle module provides a way to do this. \n",
    "\n",
    "- `JSON` (JavaScript Object Notation) is a lightweight data interchange format that is easy for humans to read and write, and easy for machines to parse and generate. The json module provides a way to serialize Python objects to JSON format and vice versa. "
   ]
  },
  {
   "cell_type": "code",
   "execution_count": null,
   "metadata": {},
   "outputs": [],
   "source": [
    "## PICKLE\n",
    "import pickle\n",
    "\n",
    "data = {'name': 'John', 'age': 30, 'city': 'New York'}\n",
    "\n",
    "# Store data in a file\n",
    "with open('data.pkl', 'wb') as f:\n",
    "    pickle.dump(data, f)\n",
    "\n",
    "# Load data from file\n",
    "with open('data.pkl', 'rb') as f:\n",
    "    loaded_data = pickle.load(f)\n",
    "\n",
    "print(loaded_data)\n",
    "\n",
    "## JSON\n",
    "import json\n",
    "\n",
    "data = {'name': 'John', 'age': 30, 'city': 'New York'}\n",
    "\n",
    "# Store data in a file\n",
    "with open('data.json', 'w') as f:\n",
    "    json.dump(data, f)\n",
    "\n",
    "# Load data from file\n",
    "with open('data.json', 'r') as f:\n",
    "    loaded_data = json.load(f)\n",
    "\n",
    "print(loaded_data)"
   ]
  },
  {
   "attachments": {},
   "cell_type": "markdown",
   "metadata": {},
   "source": [
    "**File Context Managers**\n",
    "\n",
    "File context managers are a convenient way to work with files in Python. They allow you to open a file for reading or writing, perform operations on the file, and then automatically close the file when you're done.\n",
    "\n",
    "The built-in open() function can be used to open a file, and it returns a file object that can be used to read or write the contents of the file. However, it's important to make sure that you always close the file when you're done, to avoid running out of system resources or losing data.\n",
    "\n",
    "Using a context manager with the with keyword, you can ensure that the file is automatically closed when the block of code is exited. Here's an example:"
   ]
  },
  {
   "cell_type": "code",
   "execution_count": null,
   "metadata": {},
   "outputs": [],
   "source": [
    "with open('file.txt', 'r') as f:\n",
    "    data = f.read()\n",
    "    # perform operations on the file\n",
    "# file is automatically closed at the end of the with block"
   ]
  },
  {
   "attachments": {},
   "cell_type": "markdown",
   "metadata": {},
   "source": [
    "## Operators\n",
    "\n",
    "Are special symbols or keywords that perform specific operations on one or more operands (values or variables). There are several types of operators in Python:\n",
    "\n",
    "- `Arithmetic operators`: used to perform arithmetic operations like addition, subtraction, multiplication, division, modulus, etc.\n",
    "- `Comparison operators`: used to compare two values and return a boolean value (True or False).\n",
    "- `Assignment operators`: used to assign a value to a variable.\n",
    "- `Bitwise operators`: used to perform bitwise operations on binary numbers.\n",
    "- `Logical operators`: used to perform logical operations like and, or, not.\n",
    "- `Membership operators`: used to test whether a value or variable is a member of a sequence (like a string, list, or tuple).\n",
    "- `Identity operators`: used to test whether two objects have the same identity (i.e., they refer to the same object in memory).\n",
    "\n",
    "Operators are an essential part of programming, and using them correctly can make your code more efficient and readable."
   ]
  },
  {
   "cell_type": "code",
   "execution_count": null,
   "metadata": {},
   "outputs": [],
   "source": [
    "## Arithmetic operators\n",
    "\n",
    "x + y  # Addition\n",
    "x - y  # Subtraction\n",
    "x * y  # Multiplication\n",
    "x / y  # Division\n",
    "x // y # Floor division\n",
    "x % y  # Modulus\n",
    "x ** y # Exponentiation"
   ]
  },
  {
   "cell_type": "code",
   "execution_count": null,
   "metadata": {},
   "outputs": [],
   "source": [
    "## Comparison operators\n",
    "\n",
    "x == y  # Equals\n",
    "x != y # Not equals\n",
    "x > y # Greater than\n",
    "x < y # Less than\n",
    "x >= y # Greater than or equal to\n",
    "x <= y # Less than or equal to"
   ]
  },
  {
   "cell_type": "code",
   "execution_count": null,
   "metadata": {},
   "outputs": [],
   "source": [
    "## Assignment Operators\n",
    "\n",
    "x = 10    # Assigns the value 10 to variable x\n",
    "x += 5    # Adds 5 to the value of x (result: x = 15)\n",
    "x -= 3    # Subtracts 3 from the value of x (result: x = 12)\n",
    "x *= 2    # Multiplies the value of x by 2 (result: x = 24)\n",
    "x /= 4    # Divides the value of x by 4 (result: x = 6.0)\n",
    "x %= 2    # Assigns the remainder of x divided by 2 to x (result: x = 0)\n",
    "x **= 3   # Raises the value of x to the power of 3 (result: x = 0)\n",
    "x //= 2   # Assigns the floor division of x by 2 to x (result: x = 0)"
   ]
  },
  {
   "cell_type": "code",
   "execution_count": null,
   "metadata": {},
   "outputs": [],
   "source": [
    "## Logical Operators\n",
    "\n",
    "x and y # AND operator\n",
    "x or y # OR operator\n",
    "not x # NOT operator"
   ]
  },
  {
   "cell_type": "code",
   "execution_count": null,
   "metadata": {},
   "outputs": [],
   "source": [
    "## Membership Operators\n",
    "\n",
    "# Using 'in' operator with a list\n",
    "my_list = [1, 2, 3, 4, 5]\n",
    "print(3 in my_list) # Output: True\n",
    "\n",
    "# Using 'not in' operator with a tuple\n",
    "my_tuple = ('a', 'b', 'c')\n",
    "print('d' not in my_tuple) # Output: True\n",
    "\n",
    "# Using 'in' operator with a string\n",
    "my_string = 'Hello, world!'\n",
    "print('H' in my_string) # Output: True\n",
    "\n",
    "# Using 'not in' operator with a set\n",
    "my_set = {1, 2, 3}\n",
    "print(4 not in my_set) # Output: True"
   ]
  },
  {
   "cell_type": "code",
   "execution_count": null,
   "metadata": {},
   "outputs": [],
   "source": [
    "##  Identity operators\n",
    "\n",
    "x = 10\n",
    "y = 10\n",
    "z = [10]\n",
    "\n",
    "# 'is' checks if two objects have the same identity\n",
    "print(x is y)   # Output: True\n",
    "print(x is z)   # Output: False\n",
    "\n",
    "# 'is not' checks if two objects have different identity\n",
    "print(x is not y)   # Output: False\n",
    "print(x is not z)   # Output: True"
   ]
  },
  {
   "attachments": {},
   "cell_type": "markdown",
   "metadata": {},
   "source": [
    "**Precedence of operators**\n",
    "\n",
    "The precedence of operators in Python determines the order in which operations are performed. Operators with higher precedence are evaluated first. Here's a brief summary of the operator precedence in Python, from highest to lowest:\n",
    "\n",
    "- `Parentheses ()`: used to group expressions and force evaluation order\n",
    "- `Exponentiation **`: raises a number to a power\n",
    "- `Unary plus and minus +x, -x`: performs unary arithmetic operations\n",
    "- `Multiplication, division, and remainder *, /, %`: performs multiplication, division, and remainder calculations\n",
    "- `Addition and subtraction +, -`: performs addition and subtraction operations\n",
    "- `Bitwise shifts <<, >>`: shifts the bits of a number left or right\n",
    "- `Bitwise AND &`: performs bitwise AND operation\n",
    "- `Bitwise XOR ^`: performs bitwise XOR (exclusive OR) operation\n",
    "- `Bitwise OR |`: performs bitwise OR operation\n",
    "- `Comparison operators <, <=, >, >=, ==, !=`: compares two values and returns a boolean\n",
    "- `Boolean NOT not`: negates a boolean value\n",
    "- `Boolean AND and`: performs boolean AND operation\n",
    "- `Boolean OR or`: performs boolean OR operation\n",
    "- `Conditional expression if-else`: a ternary operator that evaluates a condition and returns one of two values\n",
    "\n",
    "**Note**:Keep in mind that the operator precedence can be overridden by using parentheses to group expressions."
   ]
  },
  {
   "attachments": {},
   "cell_type": "markdown",
   "metadata": {},
   "source": [
    "## Scopes\n",
    "\n",
    "It's a region of a program where a variable is defined and accessible. There are two types of scopes in Python: global scope and local scope. The global scope refers to variables that are defined outside of any function, while the local scope refers to variables that are defined inside a function."
   ]
  },
  {
   "cell_type": "code",
   "execution_count": null,
   "metadata": {},
   "outputs": [],
   "source": [
    "x = 10 # global variable\n",
    "\n",
    "def my_func():\n",
    "    y = 5 # local variable\n",
    "    print(\"x inside my_func:\", x) # accessing global variable\n",
    "    print(\"y inside my_func:\", y) # accessing local variable\n",
    "\n",
    "my_func()\n",
    "print(\"x outside my_func:\", x) # accessing global variable"
   ]
  },
  {
   "attachments": {},
   "cell_type": "markdown",
   "metadata": {},
   "source": [
    "**LEGB**\n",
    "\n",
    "LEGB is an acronym that stands for Local, Enclosing, Global, and Built-in. It is a set of rules that Python uses to determine the order in which it searches for variables in nested scopes.\n",
    "\n",
    "- `Local`: The local scope refers to the current function or code block where the variable is being defined.\n",
    "- `Enclosing`: The enclosing scope refers to any outer functions or code blocks that contain the current function or code block.\n",
    "- `Global`: The global scope refers to the module-level scope. Variables defined in this scope can be accessed from anywhere in the module.\n",
    "- `Built-in`: The built-in scope refers to the scope of the built-in functions and modules in Python.\n",
    "\n",
    "When a variable is referenced in Python, the interpreter first searches for it in the local scope. If it is not found there, it moves on to the enclosing scope, then the global scope, and finally the built-in scope. If the variable is not found at any of these levels, a NameError is raised."
   ]
  },
  {
   "cell_type": "code",
   "execution_count": null,
   "metadata": {},
   "outputs": [],
   "source": [
    "x = 'global'\n",
    "\n",
    "def outer():\n",
    "    x = 'outer'\n",
    "\n",
    "    def inner():\n",
    "        x = 'inner'\n",
    "        print(x)\n",
    "\n",
    "    inner()\n",
    "    print(x)\n",
    "\n",
    "outer()\n",
    "print(x)"
   ]
  },
  {
   "attachments": {},
   "cell_type": "markdown",
   "metadata": {},
   "source": [
    "**global and nonlocal keywords**\n",
    "\n",
    "In Python, global and nonlocal are keywords that allow you to access variables in outer scopes. Here's a simple definition of each:\n",
    "\n",
    "- **global**: The global keyword allows you to modify a global variable from within a function.\n",
    "- **nonlocal**: The nonlocal keyword allows you to modify a variable from an outer, non-global scope.\n",
    "\n",
    "In Python, a closure is a function object that remembers values in the enclosing lexical scope even if they are not present in memory. It is a record that stores a function together with an environment: a mapping associating each free variable of the function with the value or reference to which the name was bound when the closure was created.\n",
    "\n",
    "In Python, a variable's scope determines where in a program the variable can be accessed. There are three types of variable scopes in Python:\n",
    "\n",
    "- **Local scope**: Variables defined inside a function have local scope and can only be accessed within that function.\n",
    "- **Global scope**: Variables defined outside of any function have global scope and can be accessed anywhere in the program.\n",
    "- **Enclosing scope**: Variables defined in a enclosing function have enclosing scope and can be accessed within nested functions.\n",
    "\n",
    "**globals() and locals()**\n",
    "\n",
    "In Python, globals() and locals() are built-in functions that allow you to access the global and local namespace, respectively.\n",
    "\n",
    "- **globals()**: The globals() function returns a dictionary representing the global namespace. You can use this function to access or modify global variables from within a function.\n",
    "- **locals()**: The locals() function returns a dictionary representing the local namespace. You can use this function to access or modify local variables from within a function.\n",
    "\n",
    "It is possible to mutate the dictionaries returned by the globals() and locals() functions in Python. However, it is generally not recommended to do so as it can lead to unexpected behavior and can make your code harder to understand and debug."
   ]
  },
  {
   "cell_type": "code",
   "execution_count": null,
   "metadata": {},
   "outputs": [],
   "source": [
    "## GLOBAL AND NONLOCAL KEYWORDS\n",
    "\n",
    "# Define a global variable\n",
    "x = 0\n",
    "\n",
    "def my_function():\n",
    "    global x\n",
    "    x = 1\n",
    "    print(f\"Inside my_function: x = {x}\") # Output: Inside my_function: x = 1\n",
    "\n",
    "def outer_function():\n",
    "    y = 0\n",
    "    def inner_function():\n",
    "        nonlocal y\n",
    "        y = 1\n",
    "        print(f\"Inside inner_function: y = {y}\") # Output: Inside inner_function: y = 1\n",
    "    inner_function()\n",
    "    print(f\"Inside outer_function: y = {y}\") # Output: Inside outer_function: y = 1\n",
    "\n",
    "my_function()\n",
    "outer_function()\n",
    "print(f\"After function calls: x = {x}\") # Output: After function calls: x = 1\n",
    "\n",
    "\n",
    "## CLOSURES\n",
    "\n",
    "def outer_function(x):\n",
    "    def inner_function(y):\n",
    "        return x + y\n",
    "    return inner_function\n",
    "\n",
    "closure = outer_function(10)\n",
    "result = closure(5)\n",
    "print(result) # Output: 15\n",
    "\n",
    "\n",
    "## GLOBALS AND LOCALS\n",
    "x = 0\n",
    "\n",
    "def my_function():\n",
    "    y = 1\n",
    "    print(f\"Inside my_function: x = {globals()['x']}, y = {locals()['y']}\")\n",
    "    globals()['x'] = 2\n",
    "    locals()['y'] = 3\n",
    "    print(f\"Inside my_function after mutation: x = {globals()['x']}, y = {locals()['y']}\")\n",
    "\n",
    "my_function()\n",
    "print(f\"After function call: x = {x}\") # Output: After function call: x = 2"
   ]
  },
  {
   "attachments": {},
   "cell_type": "markdown",
   "metadata": {},
   "source": [
    "## Python standard libraries \n",
    "\n",
    "Python standard libraries are pre-written, reusable modules containing a set of functions and data structures that come with the Python installation. They are maintained and updated by the Python Software Foundation and the Python developer community.\n",
    "\n",
    "Here are brief descriptions of some Python standard libraries:\n",
    "\n",
    "- `math`: Provides mathematical functions for numerical operations.\n",
    "- `random`: Provides functions for generating random numbers and values.\n",
    "- `re`: Provides regular expression operations for pattern matching and text processing.\n",
    "- `sys`: Provides system-specific parameters and functions used by the interpreter.\n",
    "- `os`: Provides a way of interacting with the operating system, including file I/O and process management.\n",
    "- `time`: Provides functions for working with dates and times, including time zone support.\n",
    "- `datetime`: Provides classes for working with dates, times, and time intervals.\n",
    "- `json`: Provides functions for working with JSON (JavaScript Object Notation) data.\n",
    "- `http`: Provides classes and functions for working with HTTP (Hypertext Transfer Protocol) requests and responses.\n",
    "- `urllib`: Provides modules for working with URLs and URLs handling.\n",
    "- `venv`: Provides functionality for creating and managing virtual environments.\n",
    "- `builtins`: Provides a set of built-in functions and exceptions that are always available in Python.\n",
    "- `argparse`: A module that makes it easy to write user-friendly command-line interfaces.\n",
    "- `optparse`: A deprecated module similar to argparse for parsing command-line arguments.\n",
    "- `enum`: A module for creating enumerated constants, which are a set of symbolic names (members) bound to unique, constant values.\n",
    "- `dataclasses`: A module that provides a decorator and functions for creating classes that are primarily used to store data.\n",
    "- `base64`: A module that provides functions for encoding and decoding binary data in base64 format.\n",
    "- `logging`: A module that provides a flexible framework for emitting log messages from Python programs.\n",
    "- `pathlib`: A module that provides an object-oriented approach to working with filesystem paths.\n",
    "- `shutil`: A module that provides a higher level interface for copying and archiving files and directories.\n",
    "- `uuid`: A module that provides functions for generating and working with UUIDs (Universally Unique Identifiers).\n",
    "- `typing`: A module that provides support for type hints and annotations.\n",
    "- `types`: A module that provides runtime support for dynamic creation of new types, and contains aliases for built-in types.\n",
    "- `collections`: A module that provides alternatives to built-in types, including named tuples, ordered dictionaries, and counters.\n",
    "- `copy`: A module that provides functions for creating shallow and deep copies of Python objects.\n",
    "- `unittest`: A module for unit testing Python code.\n",
    "- `timeit`: A module for measuring the execution time of small code snippets.\n",
    "- `itertools`: A module that provides functions for creating and working with iterators, including infinite iterators and combinatoric generators.\n",
    "- `functools`: A module that provides higher-order functions and other tools that are useful for functional programming in Python.\n",
    "- `Pickle`: The pickle module in Python provides a way to serialize and deserialize Python objects. This is useful when you need to save Python objects to a file or send them over a network. \n",
    "- `Contextlib`: The contextlib module provides a way to work with context managers in Python. A context manager is an object that defines a __enter__ and __exit__ method and can be used in a with statement. \n",
    "- `Importlib`: The importlib module provides a way to programmatically import Python modules. \n",
    "- `Pkgutil`: The pkgutil module provides utilities for working with Python packages. One useful function is iter_modules, which can be used to iterate over all the modules in a package.\n",
    "- `Socket`: The socket module provides a way to create network sockets in Python. This can be useful when you need to send and receive data over a network."
   ]
  },
  {
   "attachments": {},
   "cell_type": "markdown",
   "metadata": {},
   "source": [
    "## Modules in Python\n",
    "\n",
    "Modules in Python are files containing Python code. They allow you to organize your code into reusable blocks of code.\n",
    "To use a module, you can import it into your Python script using the import statement. The file name is the module name with the suffix `.py`.\n",
    "\n",
    "**Packages and Init**\n",
    "\n",
    "- Packages are modules that contain other modules. They are organized in a hierarchical directory structure and can be imported using the import statement. A package can contain subpackages and modules.\n",
    "\n",
    "- The __init__.py file is a special Python file that tells Python that a directory is a Python package. The __init__.py file is executed when the package is imported and can contain initialization code for the package.\n"
   ]
  },
  {
   "cell_type": "code",
   "execution_count": null,
   "metadata": {},
   "outputs": [],
   "source": [
    "# my_package. directory structure\n",
    "\n",
    "# my_package/\n",
    "#     __init__.py\n",
    "#     module1.py\n",
    "#     module2.py\n",
    "#     subpackage/\n",
    "#         __init__.py\n",
    "#         module3.py\n",
    "\n",
    "\n",
    "# To use a module from this package, you can import it like this:\n",
    "import my_package.module1\n",
    "\n",
    "# To use a subpackage module, you can import it like this:\n",
    "import my_package.subpackage.module3\n",
    "\n",
    "# You can also use the from keyword to import specific objects from a module or subpackage:\n",
    "from my_package.module1 import my_function\n",
    "from my_package.subpackage.module3 import my_class"
   ]
  },
  {
   "attachments": {},
   "cell_type": "markdown",
   "metadata": {},
   "source": [
    "**`__name__` and `__main__`**\n",
    "\n",
    "- __name__ is a special variable in Python that contains the name of the current module.\n",
    "- __main__ is a special module in Python that represents the entry point of the program."
   ]
  },
  {
   "cell_type": "code",
   "execution_count": null,
   "metadata": {},
   "outputs": [],
   "source": [
    "# example_module.py\n",
    "\n",
    "def greet(name):\n",
    "    print(f\"Hello, {name}!\")\n",
    "\n",
    "if __name__ == \"__main__\":\n",
    "    greet(\"Alice\")\n",
    "    greet(\"Bob\")"
   ]
  },
  {
   "attachments": {},
   "cell_type": "markdown",
   "metadata": {},
   "source": [
    "**`__all__` in modules**\n",
    "\n",
    "In Python, the special variable __all__ can be used to specify which names should be exported when a module is imported using the from module import * syntax.\n",
    "\n",
    "When the from module import * syntax is used, Python will import all names that do not begin with an underscore from the module. However, if __all__ is defined in the module, only the names listed in __all__ will be imported."
   ]
  },
  {
   "attachments": {},
   "cell_type": "markdown",
   "metadata": {},
   "source": [
    "**Relative and Absolute Path**\n",
    "\n",
    "A file path is a string that represents the location of a file or directory on the file system. There are two types of file paths: relative and absolute.\n",
    "\n",
    "- An absolute file path specifies the full path to a file or directory, starting from the root of the file system. For example, in a Unix-based system, an absolute file path might look like this: /home/user/documents/myfile.txt.\n",
    "\n",
    "- A relative file path specifies the path to a file or directory relative to the current working directory. For example, if the current working directory is /home/user, a relative file path might look like this: documents/myfile.txt."
   ]
  },
  {
   "cell_type": "code",
   "execution_count": null,
   "metadata": {},
   "outputs": [],
   "source": [
    "import os\n",
    "\n",
    "#create an absolute file path in Python\n",
    "relative_path = 'documents/myfile.txt'\n",
    "absolute_path = os.path.abspath(relative_path)\n",
    "print(absolute_path)\n",
    "\n",
    "#create a relative file path in Python\n",
    "directory = 'documents'\n",
    "filename = 'myfile.txt'\n",
    "relative_path = os.path.join(directory, filename)\n",
    "print(relative_path)\n"
   ]
  },
  {
   "attachments": {},
   "cell_type": "markdown",
   "metadata": {},
   "source": [
    "**Changing module search path**\n",
    "\n",
    "The module search path is the sequence of directories that the interpreter searches when looking for a module to import. By default, the interpreter searches for modules in the current working directory and then in the list of directories defined by the PYTHONPATH environment variable."
   ]
  },
  {
   "attachments": {},
   "cell_type": "markdown",
   "metadata": {},
   "source": [
    "**Importing * from a package**\n",
    "\n",
    "Importing all names using the '' operator from a package is generally not recommended as it can lead to naming conflicts and make the code harder to read and maintain. When using the '' operator, all names defined in the module are imported, including any names that may have been added or changed since the module was first imported. This can cause unexpected behavior and make it difficult to track down errors."
   ]
  },
  {
   "cell_type": "code",
   "execution_count": null,
   "metadata": {},
   "outputs": [],
   "source": [
    "# Instead of using the '*' operator, it is recommended to explicitly \n",
    "# import the names you need from the module or package using the 'import' statement.\n",
    "from mypackage.mymodule import myfunction"
   ]
  },
  {
   "attachments": {},
   "cell_type": "markdown",
   "metadata": {},
   "source": [
    "**Executing modules as scripts**\n",
    "\n",
    "In Python, you can execute a module as a script by adding the following code at the bottom of the module:\n",
    "\n",
    "```\n",
    "if __name__ == \"__main__\":\n",
    "    # code to be executed when the module is run as a script\n",
    "```\n",
    "\n",
    "The `__name__` variable is a special built-in variable in Python that contains the name of the current module. When a module is executed as a script, its `__name__` is set to \"__main__\". This allows you to distinguish between when a module is being imported and when it is being run as a script.\n",
    "\n",
    "By using this pattern, you can define some code that will only be executed when the module is run as a script. For example, you might define some test code or command-line interface code that should only be executed when the module is run as a script, but not when it is imported by another module."
   ]
  },
  {
   "attachments": {},
   "cell_type": "markdown",
   "metadata": {},
   "source": [
    "**The module cache: sys.modules**\n",
    "\n",
    "In Python, the sys.modules dictionary is a cache that stores loaded modules so that they can be quickly accessed in the future. When you import a module, Python first checks the sys.modules dictionary to see if the module is already loaded. If it is, Python simply returns the cached module. If it is not, Python loads the module and adds it to the cache."
   ]
  },
  {
   "cell_type": "code",
   "execution_count": null,
   "metadata": {},
   "outputs": [],
   "source": [
    "import sys\n",
    "\n",
    "# Check if a module is already loaded\n",
    "if 'my_module' in sys.modules:\n",
    "    # If it is, reload the module\n",
    "    my_module = reload(sys.modules['my_module'])\n",
    "else:\n",
    "    # If it is not, import the module\n",
    "    import my_module\n",
    "\n",
    "# Use the module\n",
    "result = my_module.my_function()"
   ]
  },
  {
   "attachments": {},
   "cell_type": "markdown",
   "metadata": {},
   "source": [
    "**module reload, importlib**\n",
    "\n",
    "In Python, you can use the importlib module to dynamically import and reload modules at runtime. This can be useful if you need to import modules based on user input or if you need to reload a module to pick up changes to its source code."
   ]
  },
  {
   "cell_type": "code",
   "execution_count": null,
   "metadata": {},
   "outputs": [],
   "source": [
    "import importlib\n",
    "\n",
    "# Import the module\n",
    "my_module = importlib.import_module('my_module')\n",
    "\n",
    "# Use the module\n",
    "result = my_module.my_function()\n",
    "\n",
    "# Reload the module\n",
    "my_module = importlib.reload(my_module)\n",
    "\n",
    "# Use the module again\n",
    "result = my_module.my_function()"
   ]
  }
 ],
 "metadata": {
  "kernelspec": {
   "display_name": "Python 3",
   "language": "python",
   "name": "python3"
  },
  "language_info": {
   "codemirror_mode": {
    "name": "ipython",
    "version": 3
   },
   "file_extension": ".py",
   "mimetype": "text/x-python",
   "name": "python",
   "nbconvert_exporter": "python",
   "pygments_lexer": "ipython3",
   "version": "3.10.9"
  },
  "orig_nbformat": 4
 },
 "nbformat": 4,
 "nbformat_minor": 2
}
